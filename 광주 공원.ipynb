{
 "cells": [
  {
   "cell_type": "code",
   "execution_count": 32,
   "id": "911e3ee0",
   "metadata": {},
   "outputs": [],
   "source": [
    "import json\n",
    "import pandas as pd\n",
    "import requests\n",
    "from pandas import json_normalize"
   ]
  },
  {
   "cell_type": "code",
   "execution_count": 18,
   "id": "d32f28d8",
   "metadata": {},
   "outputs": [],
   "source": [
    "num=1"
   ]
  },
  {
   "cell_type": "code",
   "execution_count": 23,
   "id": "59607e57",
   "metadata": {},
   "outputs": [
    {
     "data": {
      "text/plain": [
       "'https://bigdata.gwangju.go.kr/gjAPI/getCityPark/getCityParklist.rd?apiSrvCd=0030&pageNo=1&numOfRow=10'"
      ]
     },
     "execution_count": 23,
     "metadata": {},
     "output_type": "execute_result"
    }
   ],
   "source": [
    "url='https://bigdata.gwangju.go.kr/gjAPI/getCityPark/getCityParklist.rd?apiSrvCd=0030&pageNo='+str(num)+'&numOfRow=10'\n",
    "url"
   ]
  },
  {
   "cell_type": "code",
   "execution_count": 34,
   "id": "c4dec58f",
   "metadata": {
    "scrolled": true
   },
   "outputs": [
    {
     "data": {
      "text/plain": [
       "'{\"response\":{\"header\":{\"resultCode\":\"00\",\"resultMsg\":\"NORMAL_CODE\"},\"body\":{\"items\":[{\"make_type\":\"조성\",\"num\":\"1347\",\"make_2\":\"\",\"make_1\":\"120,586.10\",\"make_3\":\"\",\"organ_nm\":\"푸른길\",\"type1\":\"근린공원\",\"sigungu_nm\":\"동구\",\"st_add\":\"동구 계림동~남구 진월동\"},{\"make_type\":\"\",\"num\":\"1348\",\"make_2\":\"\",\"make_1\":\"58,131.30\",\"make_3\":\"\",\"organ_nm\":\"푸른길\",\"type1\":\"근린공원\",\"sigungu_nm\":\"동구\",\"st_add\":\"동구 학동 55-151 외\"},{\"make_type\":\"\",\"num\":\"1349\",\"make_2\":\"\",\"make_1\":\"62,454.80\",\"make_3\":\"\",\"organ_nm\":\"푸른길\",\"type1\":\"근린공원\",\"sigungu_nm\":\"남구\",\"st_add\":\"남구 주월동 1013-1 외\"},{\"make_type\":\"조성중\",\"num\":\"1350\",\"make_2\":\"2,845,833.90\",\"make_1\":\"185,868.00\",\"make_3\":\" - \",\"organ_nm\":\"중앙\",\"type1\":\"근린공원\",\"sigungu_nm\":\"서구\",\"st_add\":\"서구 풍암동~남구 주월동\"},{\"make_type\":\"조성중\",\"num\":\"1351\",\"make_2\":\"\",\"make_1\":\"\",\"make_3\":\"\",\"organ_nm\":\" 중앙_백일산권역\",\"type1\":\"근린공원\",\"sigungu_nm\":\"\",\"st_add\":\"\"},{\"make_type\":\"조성중\",\"num\":\"1352\",\"make_2\":\"\",\"make_1\":\"\",\"make_3\":\"\",\"organ_nm\":\"중앙_풍암산권역\",\"type1\":\"근린공원\",\"sigungu_nm\":\"\",\"st_add\":\"\"},{\"make_type\":\"조성중\",\"num\":\"1353\",\"make_2\":\"\",\"make_1\":\"\",\"make_3\":\"\",\"organ_nm\":\"중앙_체육공원권역\",\"type1\":\"근린공원\",\"sigungu_nm\":\"\",\"st_add\":\"\"},{\"make_type\":\"조성중\",\"num\":\"1354\",\"make_2\":\"\",\"make_1\":\"\",\"make_3\":\"\",\"organ_nm\":\"중앙_짚봉산권역\",\"type1\":\"근린공원\",\"sigungu_nm\":\"\",\"st_add\":\"\"},{\"make_type\":\"\",\"num\":\"1355\",\"make_2\":\"2,503,080.90\",\"make_1\":\"185,868.00\",\"make_3\":\"\",\"organ_nm\":\"중앙\",\"type1\":\"근린공원\",\"sigungu_nm\":\"서구\",\"st_add\":\"서구 풍암동 467 외\"},{\"make_type\":\"\",\"num\":\"1356\",\"make_2\":\"342,753.00\",\"make_1\":\"\",\"make_3\":\"\",\"organ_nm\":\"중앙\",\"type1\":\"근린공원\",\"sigungu_nm\":\"남구\",\"st_add\":\"남구 주월동  산75-1 외\"}]}}}'"
      ]
     },
     "execution_count": 34,
     "metadata": {},
     "output_type": "execute_result"
    }
   ],
   "source": [
    "res=requests.get(url)\n",
    "res.text"
   ]
  },
  {
   "cell_type": "code",
   "execution_count": 3,
   "id": "18a0f9c3",
   "metadata": {},
   "outputs": [],
   "source": [
    "data = json.loads(res.text)"
   ]
  },
  {
   "cell_type": "code",
   "execution_count": 4,
   "id": "4cfa1855",
   "metadata": {
    "collapsed": true
   },
   "outputs": [
    {
     "data": {
      "text/plain": [
       "{'response': {'header': {'resultCode': '00', 'resultMsg': 'NORMAL_CODE'},\n",
       "  'body': {'items': [{'make_type': '조성',\n",
       "     'num': '1347',\n",
       "     'make_2': '',\n",
       "     'make_1': '120,586.10',\n",
       "     'make_3': '',\n",
       "     'organ_nm': '푸른길',\n",
       "     'type1': '근린공원',\n",
       "     'sigungu_nm': '동구',\n",
       "     'st_add': '동구 계림동~남구 진월동'},\n",
       "    {'make_type': '',\n",
       "     'num': '1348',\n",
       "     'make_2': '',\n",
       "     'make_1': '58,131.30',\n",
       "     'make_3': '',\n",
       "     'organ_nm': '푸른길',\n",
       "     'type1': '근린공원',\n",
       "     'sigungu_nm': '동구',\n",
       "     'st_add': '동구 학동 55-151 외'},\n",
       "    {'make_type': '',\n",
       "     'num': '1349',\n",
       "     'make_2': '',\n",
       "     'make_1': '62,454.80',\n",
       "     'make_3': '',\n",
       "     'organ_nm': '푸른길',\n",
       "     'type1': '근린공원',\n",
       "     'sigungu_nm': '남구',\n",
       "     'st_add': '남구 주월동 1013-1 외'},\n",
       "    {'make_type': '조성중',\n",
       "     'num': '1350',\n",
       "     'make_2': '2,845,833.90',\n",
       "     'make_1': '185,868.00',\n",
       "     'make_3': ' - ',\n",
       "     'organ_nm': '중앙',\n",
       "     'type1': '근린공원',\n",
       "     'sigungu_nm': '서구',\n",
       "     'st_add': '서구 풍암동~남구 주월동'},\n",
       "    {'make_type': '조성중',\n",
       "     'num': '1351',\n",
       "     'make_2': '',\n",
       "     'make_1': '',\n",
       "     'make_3': '',\n",
       "     'organ_nm': ' 중앙_백일산권역',\n",
       "     'type1': '근린공원',\n",
       "     'sigungu_nm': '',\n",
       "     'st_add': ''},\n",
       "    {'make_type': '조성중',\n",
       "     'num': '1352',\n",
       "     'make_2': '',\n",
       "     'make_1': '',\n",
       "     'make_3': '',\n",
       "     'organ_nm': '중앙_풍암산권역',\n",
       "     'type1': '근린공원',\n",
       "     'sigungu_nm': '',\n",
       "     'st_add': ''},\n",
       "    {'make_type': '조성중',\n",
       "     'num': '1353',\n",
       "     'make_2': '',\n",
       "     'make_1': '',\n",
       "     'make_3': '',\n",
       "     'organ_nm': '중앙_체육공원권역',\n",
       "     'type1': '근린공원',\n",
       "     'sigungu_nm': '',\n",
       "     'st_add': ''},\n",
       "    {'make_type': '조성중',\n",
       "     'num': '1354',\n",
       "     'make_2': '',\n",
       "     'make_1': '',\n",
       "     'make_3': '',\n",
       "     'organ_nm': '중앙_짚봉산권역',\n",
       "     'type1': '근린공원',\n",
       "     'sigungu_nm': '',\n",
       "     'st_add': ''},\n",
       "    {'make_type': '',\n",
       "     'num': '1355',\n",
       "     'make_2': '2,503,080.90',\n",
       "     'make_1': '185,868.00',\n",
       "     'make_3': '',\n",
       "     'organ_nm': '중앙',\n",
       "     'type1': '근린공원',\n",
       "     'sigungu_nm': '서구',\n",
       "     'st_add': '서구 풍암동 467 외'},\n",
       "    {'make_type': '',\n",
       "     'num': '1356',\n",
       "     'make_2': '342,753.00',\n",
       "     'make_1': '',\n",
       "     'make_3': '',\n",
       "     'organ_nm': '중앙',\n",
       "     'type1': '근린공원',\n",
       "     'sigungu_nm': '남구',\n",
       "     'st_add': '남구 주월동  산75-1 외'}]}}}"
      ]
     },
     "execution_count": 4,
     "metadata": {},
     "output_type": "execute_result"
    }
   ],
   "source": [
    "data"
   ]
  },
  {
   "cell_type": "code",
   "execution_count": 6,
   "id": "75a0dfba",
   "metadata": {},
   "outputs": [
    {
     "data": {
      "text/plain": [
       "1"
      ]
     },
     "execution_count": 6,
     "metadata": {},
     "output_type": "execute_result"
    }
   ],
   "source": [
    "len(data)"
   ]
  },
  {
   "cell_type": "code",
   "execution_count": 5,
   "id": "1da09ced",
   "metadata": {},
   "outputs": [],
   "source": [
    "adress=[]"
   ]
  },
  {
   "cell_type": "code",
   "execution_count": 16,
   "id": "44a479b4",
   "metadata": {},
   "outputs": [],
   "source": [
    "df=json_normalize(['items'])"
   ]
  },
  {
   "cell_type": "code",
   "execution_count": 17,
   "id": "0f81558a",
   "metadata": {},
   "outputs": [
    {
     "data": {
      "text/html": [
       "<div>\n",
       "<style scoped>\n",
       "    .dataframe tbody tr th:only-of-type {\n",
       "        vertical-align: middle;\n",
       "    }\n",
       "\n",
       "    .dataframe tbody tr th {\n",
       "        vertical-align: top;\n",
       "    }\n",
       "\n",
       "    .dataframe thead th {\n",
       "        text-align: right;\n",
       "    }\n",
       "</style>\n",
       "<table border=\"1\" class=\"dataframe\">\n",
       "  <thead>\n",
       "    <tr style=\"text-align: right;\">\n",
       "      <th></th>\n",
       "    </tr>\n",
       "  </thead>\n",
       "  <tbody>\n",
       "    <tr>\n",
       "      <th>0</th>\n",
       "    </tr>\n",
       "  </tbody>\n",
       "</table>\n",
       "</div>"
      ],
      "text/plain": [
       "Empty DataFrame\n",
       "Columns: []\n",
       "Index: [0]"
      ]
     },
     "execution_count": 17,
     "metadata": {},
     "output_type": "execute_result"
    }
   ],
   "source": [
    "df"
   ]
  }
 ],
 "metadata": {
  "kernelspec": {
   "display_name": "Python 3 (ipykernel)",
   "language": "python",
   "name": "python3"
  },
  "language_info": {
   "codemirror_mode": {
    "name": "ipython",
    "version": 3
   },
   "file_extension": ".py",
   "mimetype": "text/x-python",
   "name": "python",
   "nbconvert_exporter": "python",
   "pygments_lexer": "ipython3",
   "version": "3.9.7"
  }
 },
 "nbformat": 4,
 "nbformat_minor": 5
}
