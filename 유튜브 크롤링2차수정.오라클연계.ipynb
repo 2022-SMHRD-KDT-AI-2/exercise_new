{
 "cells": [
  {
   "cell_type": "code",
   "execution_count": 53,
   "id": "f75e42db",
   "metadata": {},
   "outputs": [],
   "source": [
    "from selenium import webdriver\n",
    "from bs4 import BeautifulSoup as bs\n",
    "import pandas as pd\n",
    "from selenium.webdriver.common.keys import Keys\n",
    "import time\n",
    "from urllib.request import urlretrieve\n",
    "import requests\n",
    "import cx_Oracle"
   ]
  },
  {
   "cell_type": "code",
   "execution_count": 54,
   "id": "9ff0cc8a",
   "metadata": {},
   "outputs": [],
   "source": [
    "dsn = cx_Oracle.makedsn('project-db-stu.ddns.net',1524,'xe')\n",
    "conn = cx_Oracle.connect('cgi_5_0216_2','smhrd2',dsn)"
   ]
  },
  {
   "cell_type": "code",
   "execution_count": 55,
   "id": "ee7af1c3",
   "metadata": {},
   "outputs": [],
   "source": [
    "cursor.execute(\"select * from MEMBER\")\n",
    "x = cursor.fetchall()"
   ]
  },
  {
   "cell_type": "code",
   "execution_count": 57,
   "id": "a6a02d1e",
   "metadata": {},
   "outputs": [
    {
     "data": {
      "text/html": [
       "<div>\n",
       "<style scoped>\n",
       "    .dataframe tbody tr th:only-of-type {\n",
       "        vertical-align: middle;\n",
       "    }\n",
       "\n",
       "    .dataframe tbody tr th {\n",
       "        vertical-align: top;\n",
       "    }\n",
       "\n",
       "    .dataframe thead th {\n",
       "        text-align: right;\n",
       "    }\n",
       "</style>\n",
       "<table border=\"1\" class=\"dataframe\">\n",
       "  <thead>\n",
       "    <tr style=\"text-align: right;\">\n",
       "      <th></th>\n",
       "      <th>0</th>\n",
       "      <th>1</th>\n",
       "      <th>2</th>\n",
       "    </tr>\n",
       "  </thead>\n",
       "  <tbody>\n",
       "    <tr>\n",
       "      <th>0</th>\n",
       "      <td>그만해</td>\n",
       "      <td>그만해</td>\n",
       "      <td>이상현</td>\n",
       "    </tr>\n",
       "  </tbody>\n",
       "</table>\n",
       "</div>"
      ],
      "text/plain": [
       "     0    1    2\n",
       "0  그만해  그만해  이상현"
      ]
     },
     "execution_count": 57,
     "metadata": {},
     "output_type": "execute_result"
    }
   ],
   "source": [
    "df_oracle = pd.DataFrame(x)\n",
    "df_oracle"
   ]
  },
  {
   "cell_type": "code",
   "execution_count": 4,
   "id": "8728c2cc",
   "metadata": {},
   "outputs": [],
   "source": [
    "keyword = '다이어트'"
   ]
  },
  {
   "cell_type": "code",
   "execution_count": 5,
   "id": "013fbfbe",
   "metadata": {},
   "outputs": [
    {
     "data": {
      "text/plain": [
       "'https://www.youtube.com/results?search_query=다이어트'"
      ]
     },
     "execution_count": 5,
     "metadata": {},
     "output_type": "execute_result"
    }
   ],
   "source": [
    "url = 'https://www.youtube.com/results?search_query='+keyword\n",
    "url"
   ]
  },
  {
   "cell_type": "code",
   "execution_count": 6,
   "id": "c8cf94c3",
   "metadata": {},
   "outputs": [
    {
     "name": "stderr",
     "output_type": "stream",
     "text": [
      "C:\\Users\\smhrd\\AppData\\Local\\Temp/ipykernel_11076/1307687985.py:1: DeprecationWarning: executable_path has been deprecated, please pass in a Service object\n",
      "  driver = webdriver.Chrome('chromedriver.exe')\n"
     ]
    }
   ],
   "source": [
    "driver = webdriver.Chrome('chromedriver.exe')\n",
    "driver.get(url)"
   ]
  },
  {
   "cell_type": "code",
   "execution_count": 9,
   "id": "b2f9b463",
   "metadata": {},
   "outputs": [
    {
     "name": "stderr",
     "output_type": "stream",
     "text": [
      "C:\\Users\\smhrd\\AppData\\Local\\Temp/ipykernel_11076/2723634649.py:1: DeprecationWarning: find_element_by_* commands are deprecated. Please use find_element() instead\n",
      "  driver.find_element_by_xpath('//*[@id=\"container\"]/ytd-toggle-button-renderer/a').click()\n"
     ]
    }
   ],
   "source": [
    "driver.find_element_by_xpath('//*[@id=\"container\"]/ytd-toggle-button-renderer/a').click()\n",
    "time.sleep(0.5)"
   ]
  },
  {
   "cell_type": "code",
   "execution_count": 12,
   "id": "38b44f5a",
   "metadata": {
    "collapsed": true
   },
   "outputs": [
    {
     "name": "stderr",
     "output_type": "stream",
     "text": [
      "C:\\Users\\smhrd\\AppData\\Local\\Temp/ipykernel_11076/1948979790.py:2: DeprecationWarning: find_element_by_* commands are deprecated. Please use find_element() instead\n",
      "  driver.find_element_by_css_selector(\"#collapse-content ytd-search-filter-group-renderer:nth-child(4) ytd-search-filter-renderer:nth-of-type(5) a\").click()\n"
     ]
    },
    {
     "ename": "ElementNotInteractableException",
     "evalue": "Message: element not interactable\n  (Session info: chrome=99.0.4844.51)\nStacktrace:\nBacktrace:\n\tOrdinal0 [0x00BF7AC3+2587331]\n\tOrdinal0 [0x00B8ADD1+2141649]\n\tOrdinal0 [0x00A83A80+1063552]\n\tOrdinal0 [0x00AB10DE+1249502]\n\tOrdinal0 [0x00AA6DD3+1207763]\n\tOrdinal0 [0x00AC868C+1345164]\n\tOrdinal0 [0x00AA67A4+1206180]\n\tOrdinal0 [0x00AC87E4+1345508]\n\tOrdinal0 [0x00AD8A0A+1411594]\n\tOrdinal0 [0x00AC84A6+1344678]\n\tOrdinal0 [0x00AA53F6+1201142]\n\tOrdinal0 [0x00AA62E6+1204966]\n\tGetHandleVerifier [0x00D9DF22+1680738]\n\tGetHandleVerifier [0x00E50DBC+2413564]\n\tGetHandleVerifier [0x00C8D151+563089]\n\tGetHandleVerifier [0x00C8BF13+558419]\n\tOrdinal0 [0x00B9081E+2164766]\n\tOrdinal0 [0x00B95508+2184456]\n\tOrdinal0 [0x00B95650+2184784]\n\tOrdinal0 [0x00B9F5BC+2225596]\n\tBaseThreadInitThunk [0x7761FA29+25]\n\tRtlGetAppContainerNamedObjectPath [0x77DB7A9E+286]\n\tRtlGetAppContainerNamedObjectPath [0x77DB7A6E+238]\n",
     "output_type": "error",
     "traceback": [
      "\u001b[1;31m---------------------------------------------------------------------------\u001b[0m",
      "\u001b[1;31mElementNotInteractableException\u001b[0m           Traceback (most recent call last)",
      "\u001b[1;32m~\\AppData\\Local\\Temp/ipykernel_11076/1948979790.py\u001b[0m in \u001b[0;36m<module>\u001b[1;34m\u001b[0m\n\u001b[0;32m      1\u001b[0m \u001b[1;31m#크리에이티브 커먼즈 필터 옵션 클릭\u001b[0m\u001b[1;33m\u001b[0m\u001b[1;33m\u001b[0m\u001b[0m\n\u001b[1;32m----> 2\u001b[1;33m \u001b[0mdriver\u001b[0m\u001b[1;33m.\u001b[0m\u001b[0mfind_element_by_css_selector\u001b[0m\u001b[1;33m(\u001b[0m\u001b[1;34m\"#collapse-content ytd-search-filter-group-renderer:nth-child(4) ytd-search-filter-renderer:nth-of-type(5) a\"\u001b[0m\u001b[1;33m)\u001b[0m\u001b[1;33m.\u001b[0m\u001b[0mclick\u001b[0m\u001b[1;33m(\u001b[0m\u001b[1;33m)\u001b[0m\u001b[1;33m\u001b[0m\u001b[1;33m\u001b[0m\u001b[0m\n\u001b[0m\u001b[0;32m      3\u001b[0m \u001b[0mtime\u001b[0m\u001b[1;33m.\u001b[0m\u001b[0msleep\u001b[0m\u001b[1;33m(\u001b[0m\u001b[1;36m0.5\u001b[0m\u001b[1;33m)\u001b[0m\u001b[1;33m\u001b[0m\u001b[1;33m\u001b[0m\u001b[0m\n",
      "\u001b[1;32m~\\anaconda3\\lib\\site-packages\\selenium\\webdriver\\remote\\webelement.py\u001b[0m in \u001b[0;36mclick\u001b[1;34m(self)\u001b[0m\n\u001b[0;32m     79\u001b[0m     \u001b[1;32mdef\u001b[0m \u001b[0mclick\u001b[0m\u001b[1;33m(\u001b[0m\u001b[0mself\u001b[0m\u001b[1;33m)\u001b[0m \u001b[1;33m->\u001b[0m \u001b[1;32mNone\u001b[0m\u001b[1;33m:\u001b[0m\u001b[1;33m\u001b[0m\u001b[1;33m\u001b[0m\u001b[0m\n\u001b[0;32m     80\u001b[0m         \u001b[1;34m\"\"\"Clicks the element.\"\"\"\u001b[0m\u001b[1;33m\u001b[0m\u001b[1;33m\u001b[0m\u001b[0m\n\u001b[1;32m---> 81\u001b[1;33m         \u001b[0mself\u001b[0m\u001b[1;33m.\u001b[0m\u001b[0m_execute\u001b[0m\u001b[1;33m(\u001b[0m\u001b[0mCommand\u001b[0m\u001b[1;33m.\u001b[0m\u001b[0mCLICK_ELEMENT\u001b[0m\u001b[1;33m)\u001b[0m\u001b[1;33m\u001b[0m\u001b[1;33m\u001b[0m\u001b[0m\n\u001b[0m\u001b[0;32m     82\u001b[0m \u001b[1;33m\u001b[0m\u001b[0m\n\u001b[0;32m     83\u001b[0m     \u001b[1;32mdef\u001b[0m \u001b[0msubmit\u001b[0m\u001b[1;33m(\u001b[0m\u001b[0mself\u001b[0m\u001b[1;33m)\u001b[0m\u001b[1;33m:\u001b[0m\u001b[1;33m\u001b[0m\u001b[1;33m\u001b[0m\u001b[0m\n",
      "\u001b[1;32m~\\anaconda3\\lib\\site-packages\\selenium\\webdriver\\remote\\webelement.py\u001b[0m in \u001b[0;36m_execute\u001b[1;34m(self, command, params)\u001b[0m\n\u001b[0;32m    708\u001b[0m             \u001b[0mparams\u001b[0m \u001b[1;33m=\u001b[0m \u001b[1;33m{\u001b[0m\u001b[1;33m}\u001b[0m\u001b[1;33m\u001b[0m\u001b[1;33m\u001b[0m\u001b[0m\n\u001b[0;32m    709\u001b[0m         \u001b[0mparams\u001b[0m\u001b[1;33m[\u001b[0m\u001b[1;34m'id'\u001b[0m\u001b[1;33m]\u001b[0m \u001b[1;33m=\u001b[0m \u001b[0mself\u001b[0m\u001b[1;33m.\u001b[0m\u001b[0m_id\u001b[0m\u001b[1;33m\u001b[0m\u001b[1;33m\u001b[0m\u001b[0m\n\u001b[1;32m--> 710\u001b[1;33m         \u001b[1;32mreturn\u001b[0m \u001b[0mself\u001b[0m\u001b[1;33m.\u001b[0m\u001b[0m_parent\u001b[0m\u001b[1;33m.\u001b[0m\u001b[0mexecute\u001b[0m\u001b[1;33m(\u001b[0m\u001b[0mcommand\u001b[0m\u001b[1;33m,\u001b[0m \u001b[0mparams\u001b[0m\u001b[1;33m)\u001b[0m\u001b[1;33m\u001b[0m\u001b[1;33m\u001b[0m\u001b[0m\n\u001b[0m\u001b[0;32m    711\u001b[0m \u001b[1;33m\u001b[0m\u001b[0m\n\u001b[0;32m    712\u001b[0m     \u001b[1;32mdef\u001b[0m \u001b[0mfind_element\u001b[0m\u001b[1;33m(\u001b[0m\u001b[0mself\u001b[0m\u001b[1;33m,\u001b[0m \u001b[0mby\u001b[0m\u001b[1;33m=\u001b[0m\u001b[0mBy\u001b[0m\u001b[1;33m.\u001b[0m\u001b[0mID\u001b[0m\u001b[1;33m,\u001b[0m \u001b[0mvalue\u001b[0m\u001b[1;33m=\u001b[0m\u001b[1;32mNone\u001b[0m\u001b[1;33m)\u001b[0m\u001b[1;33m:\u001b[0m\u001b[1;33m\u001b[0m\u001b[1;33m\u001b[0m\u001b[0m\n",
      "\u001b[1;32m~\\anaconda3\\lib\\site-packages\\selenium\\webdriver\\remote\\webdriver.py\u001b[0m in \u001b[0;36mexecute\u001b[1;34m(self, driver_command, params)\u001b[0m\n\u001b[0;32m    422\u001b[0m         \u001b[0mresponse\u001b[0m \u001b[1;33m=\u001b[0m \u001b[0mself\u001b[0m\u001b[1;33m.\u001b[0m\u001b[0mcommand_executor\u001b[0m\u001b[1;33m.\u001b[0m\u001b[0mexecute\u001b[0m\u001b[1;33m(\u001b[0m\u001b[0mdriver_command\u001b[0m\u001b[1;33m,\u001b[0m \u001b[0mparams\u001b[0m\u001b[1;33m)\u001b[0m\u001b[1;33m\u001b[0m\u001b[1;33m\u001b[0m\u001b[0m\n\u001b[0;32m    423\u001b[0m         \u001b[1;32mif\u001b[0m \u001b[0mresponse\u001b[0m\u001b[1;33m:\u001b[0m\u001b[1;33m\u001b[0m\u001b[1;33m\u001b[0m\u001b[0m\n\u001b[1;32m--> 424\u001b[1;33m             \u001b[0mself\u001b[0m\u001b[1;33m.\u001b[0m\u001b[0merror_handler\u001b[0m\u001b[1;33m.\u001b[0m\u001b[0mcheck_response\u001b[0m\u001b[1;33m(\u001b[0m\u001b[0mresponse\u001b[0m\u001b[1;33m)\u001b[0m\u001b[1;33m\u001b[0m\u001b[1;33m\u001b[0m\u001b[0m\n\u001b[0m\u001b[0;32m    425\u001b[0m             response['value'] = self._unwrap_value(\n\u001b[0;32m    426\u001b[0m                 response.get('value', None))\n",
      "\u001b[1;32m~\\anaconda3\\lib\\site-packages\\selenium\\webdriver\\remote\\errorhandler.py\u001b[0m in \u001b[0;36mcheck_response\u001b[1;34m(self, response)\u001b[0m\n\u001b[0;32m    245\u001b[0m                 \u001b[0malert_text\u001b[0m \u001b[1;33m=\u001b[0m \u001b[0mvalue\u001b[0m\u001b[1;33m[\u001b[0m\u001b[1;34m'alert'\u001b[0m\u001b[1;33m]\u001b[0m\u001b[1;33m.\u001b[0m\u001b[0mget\u001b[0m\u001b[1;33m(\u001b[0m\u001b[1;34m'text'\u001b[0m\u001b[1;33m)\u001b[0m\u001b[1;33m\u001b[0m\u001b[1;33m\u001b[0m\u001b[0m\n\u001b[0;32m    246\u001b[0m             \u001b[1;32mraise\u001b[0m \u001b[0mexception_class\u001b[0m\u001b[1;33m(\u001b[0m\u001b[0mmessage\u001b[0m\u001b[1;33m,\u001b[0m \u001b[0mscreen\u001b[0m\u001b[1;33m,\u001b[0m \u001b[0mstacktrace\u001b[0m\u001b[1;33m,\u001b[0m \u001b[0malert_text\u001b[0m\u001b[1;33m)\u001b[0m  \u001b[1;31m# type: ignore[call-arg]  # mypy is not smart enough here\u001b[0m\u001b[1;33m\u001b[0m\u001b[1;33m\u001b[0m\u001b[0m\n\u001b[1;32m--> 247\u001b[1;33m         \u001b[1;32mraise\u001b[0m \u001b[0mexception_class\u001b[0m\u001b[1;33m(\u001b[0m\u001b[0mmessage\u001b[0m\u001b[1;33m,\u001b[0m \u001b[0mscreen\u001b[0m\u001b[1;33m,\u001b[0m \u001b[0mstacktrace\u001b[0m\u001b[1;33m)\u001b[0m\u001b[1;33m\u001b[0m\u001b[1;33m\u001b[0m\u001b[0m\n\u001b[0m\u001b[0;32m    248\u001b[0m \u001b[1;33m\u001b[0m\u001b[0m\n\u001b[0;32m    249\u001b[0m     \u001b[1;32mdef\u001b[0m \u001b[0m_value_or_default\u001b[0m\u001b[1;33m(\u001b[0m\u001b[0mself\u001b[0m\u001b[1;33m,\u001b[0m \u001b[0mobj\u001b[0m\u001b[1;33m:\u001b[0m \u001b[0mMapping\u001b[0m\u001b[1;33m[\u001b[0m\u001b[0m_KT\u001b[0m\u001b[1;33m,\u001b[0m \u001b[0m_VT\u001b[0m\u001b[1;33m]\u001b[0m\u001b[1;33m,\u001b[0m \u001b[0mkey\u001b[0m\u001b[1;33m:\u001b[0m \u001b[0m_KT\u001b[0m\u001b[1;33m,\u001b[0m \u001b[0mdefault\u001b[0m\u001b[1;33m:\u001b[0m \u001b[0m_VT\u001b[0m\u001b[1;33m)\u001b[0m \u001b[1;33m->\u001b[0m \u001b[0m_VT\u001b[0m\u001b[1;33m:\u001b[0m\u001b[1;33m\u001b[0m\u001b[1;33m\u001b[0m\u001b[0m\n",
      "\u001b[1;31mElementNotInteractableException\u001b[0m: Message: element not interactable\n  (Session info: chrome=99.0.4844.51)\nStacktrace:\nBacktrace:\n\tOrdinal0 [0x00BF7AC3+2587331]\n\tOrdinal0 [0x00B8ADD1+2141649]\n\tOrdinal0 [0x00A83A80+1063552]\n\tOrdinal0 [0x00AB10DE+1249502]\n\tOrdinal0 [0x00AA6DD3+1207763]\n\tOrdinal0 [0x00AC868C+1345164]\n\tOrdinal0 [0x00AA67A4+1206180]\n\tOrdinal0 [0x00AC87E4+1345508]\n\tOrdinal0 [0x00AD8A0A+1411594]\n\tOrdinal0 [0x00AC84A6+1344678]\n\tOrdinal0 [0x00AA53F6+1201142]\n\tOrdinal0 [0x00AA62E6+1204966]\n\tGetHandleVerifier [0x00D9DF22+1680738]\n\tGetHandleVerifier [0x00E50DBC+2413564]\n\tGetHandleVerifier [0x00C8D151+563089]\n\tGetHandleVerifier [0x00C8BF13+558419]\n\tOrdinal0 [0x00B9081E+2164766]\n\tOrdinal0 [0x00B95508+2184456]\n\tOrdinal0 [0x00B95650+2184784]\n\tOrdinal0 [0x00B9F5BC+2225596]\n\tBaseThreadInitThunk [0x7761FA29+25]\n\tRtlGetAppContainerNamedObjectPath [0x77DB7A9E+286]\n\tRtlGetAppContainerNamedObjectPath [0x77DB7A6E+238]\n"
     ]
    }
   ],
   "source": [
    "\n",
    "driver.find_element_by_css_selector(\"#collapse-content ytd-search-filter-group-renderer:nth-child(4) ytd-search-filter-renderer:nth-of-type(5) a\").click()\n",
    "time.sleep(0.5)"
   ]
  },
  {
   "cell_type": "code",
   "execution_count": 13,
   "id": "c1cf6d25",
   "metadata": {},
   "outputs": [],
   "source": [
    "soup = bs(driver.page_source, 'html.parser')"
   ]
  },
  {
   "cell_type": "code",
   "execution_count": 14,
   "id": "1e87b8b4",
   "metadata": {},
   "outputs": [],
   "source": [
    "name = soup.select('a#video-title')\n",
    "video_url = soup.select('a#video-title')\n",
    "view = soup.select('a#video-title')"
   ]
  },
  {
   "cell_type": "code",
   "execution_count": 15,
   "id": "1b3214b0",
   "metadata": {},
   "outputs": [
    {
     "name": "stderr",
     "output_type": "stream",
     "text": [
      "C:\\Users\\smhrd\\AppData\\Local\\Temp/ipykernel_11076/1615371974.py:1: DeprecationWarning: find_element_by_* commands are deprecated. Please use find_element() instead\n",
      "  body = driver.find_element_by_tag_name('body')\n"
     ]
    }
   ],
   "source": [
    "body = driver.find_element_by_tag_name('body')\n",
    "scr_down = 10\n",
    "while scr_down:\n",
    "  body.send_keys(Keys.PAGE_DOWN)\n",
    "  time.sleep(2)\n",
    "  scr_down -= 1"
   ]
  },
  {
   "cell_type": "code",
   "execution_count": 16,
   "id": "2954394e",
   "metadata": {},
   "outputs": [],
   "source": [
    "soup = bs(driver.page_source, 'html.parser')"
   ]
  },
  {
   "cell_type": "code",
   "execution_count": 22,
   "id": "686e9cd9",
   "metadata": {},
   "outputs": [],
   "source": [
    "name = soup.select('a#video-title')\n",
    "video_url = soup.select('a#video-title')\n",
    "view = soup.select('a#video-title')\n"
   ]
  },
  {
   "cell_type": "code",
   "execution_count": 24,
   "id": "240b8ab4",
   "metadata": {},
   "outputs": [],
   "source": [
    "name_list = []\n",
    "url_list = []\n",
    "view_list = []\n",
    "for i in range(len(name)):\n",
    "    name_list.append(name[i].text.strip())\n",
    "    view_list.append(view[i].get('aria-label').split()[-1])\n",
    "\n",
    "for i in video_url:\n",
    "    url_list.append('{}{}'.format('https://www.youtube.com',i.get('href')))"
   ]
  },
  {
   "cell_type": "code",
   "execution_count": 25,
   "id": "6984d055",
   "metadata": {},
   "outputs": [
    {
     "data": {
      "text/plain": [
       "(36, 36)"
      ]
     },
     "execution_count": 25,
     "metadata": {},
     "output_type": "execute_result"
    }
   ],
   "source": [
    "len(video_url),len(name_list)"
   ]
  },
  {
   "cell_type": "code",
   "execution_count": 26,
   "id": "e5c4625d",
   "metadata": {},
   "outputs": [],
   "source": [
    "youtube_result = {\n",
    "    '제목': name_list,\n",
    "    '주소': url_list,\n",
    "    '조회수': view_list\n",
    "}"
   ]
  },
  {
   "cell_type": "code",
   "execution_count": 27,
   "id": "4b70c675",
   "metadata": {},
   "outputs": [],
   "source": [
    "youtubeDf = pd.DataFrame(youtube_result)"
   ]
  },
  {
   "cell_type": "code",
   "execution_count": null,
   "id": "4186df34",
   "metadata": {},
   "outputs": [],
   "source": []
  },
  {
   "cell_type": "code",
   "execution_count": 28,
   "id": "f0170d18",
   "metadata": {
    "collapsed": true
   },
   "outputs": [
    {
     "data": {
      "text/html": [
       "<div>\n",
       "<style scoped>\n",
       "    .dataframe tbody tr th:only-of-type {\n",
       "        vertical-align: middle;\n",
       "    }\n",
       "\n",
       "    .dataframe tbody tr th {\n",
       "        vertical-align: top;\n",
       "    }\n",
       "\n",
       "    .dataframe thead th {\n",
       "        text-align: right;\n",
       "    }\n",
       "</style>\n",
       "<table border=\"1\" class=\"dataframe\">\n",
       "  <thead>\n",
       "    <tr style=\"text-align: right;\">\n",
       "      <th></th>\n",
       "      <th>제목</th>\n",
       "      <th>주소</th>\n",
       "      <th>조회수</th>\n",
       "    </tr>\n",
       "  </thead>\n",
       "  <tbody>\n",
       "    <tr>\n",
       "      <th>0</th>\n",
       "      <td>총 1억. 다이어트 내기를 해봤습니다 (EP 1)</td>\n",
       "      <td>https://www.youtube.com/watch?v=hxj5eorjN3c</td>\n",
       "      <td>1,006,485회</td>\n",
       "    </tr>\n",
       "    <tr>\n",
       "      <th>1</th>\n",
       "      <td>건강강의-다이어트-할때 이것 모르면 실패합니다. - 혈당지수 Glycemic index</td>\n",
       "      <td>https://www.youtube.com/watch?v=F9qFVVaa17Q</td>\n",
       "      <td>3,779회</td>\n",
       "    </tr>\n",
       "    <tr>\n",
       "      <th>2</th>\n",
       "      <td>Eng Sub -12kg 요요없는 다이어트 방법 | 효과적인 식단•운동•유지 방법</td>\n",
       "      <td>https://www.youtube.com/watch?v=Aj1j7ROBkVk</td>\n",
       "      <td>1,031,441회</td>\n",
       "    </tr>\n",
       "    <tr>\n",
       "      <th>3</th>\n",
       "      <td>(ENG) [하루5분/2주완성/효과보장] 두턱을 없애고 날렵한 턱선을 가질 수 있는...</td>\n",
       "      <td>https://www.youtube.com/watch?v=kyxKr6cM1Yk</td>\n",
       "      <td>2,592,247회</td>\n",
       "    </tr>\n",
       "    <tr>\n",
       "      <th>4</th>\n",
       "      <td>🔥허벅지살, 뱃살, 팔뚝살, 등살, 뒷구리살🔥을 '한번에 모조리' 불태우는 10분 루틴</td>\n",
       "      <td>https://www.youtube.com/watch?v=HqEQ7oazmjg</td>\n",
       "      <td>515,450회</td>\n",
       "    </tr>\n",
       "    <tr>\n",
       "      <th>5</th>\n",
       "      <td>다이어트-건강강의-심리학강의-믿음 다이어트 생각이 바뀌면 살이 빠진다</td>\n",
       "      <td>https://www.youtube.com/watch?v=C6sUpgyeszs</td>\n",
       "      <td>4,937회</td>\n",
       "    </tr>\n",
       "    <tr>\n",
       "      <th>6</th>\n",
       "      <td>[Eng/새천년 다이어트 유산소운동] 10분만에 땀이 주륵주륵💦 다이어트 200% ...</td>\n",
       "      <td>https://www.youtube.com/watch?v=1XVinl_y9T8</td>\n",
       "      <td>119,976회</td>\n",
       "    </tr>\n",
       "    <tr>\n",
       "      <th>7</th>\n",
       "      <td>(EN/JP) 비x일주어터 다이어트 프로젝트ㅣ 100kg 👉 XXkg 대반전 결과 ...</td>\n",
       "      <td>https://www.youtube.com/watch?v=LH-nmprd5YY</td>\n",
       "      <td>3,370,805회</td>\n",
       "    </tr>\n",
       "    <tr>\n",
       "      <th>8</th>\n",
       "      <td>[Eng] 다이어트 운동! 운동장 100바퀴? or 러닝머신만? 💥그렇다면 오늘 영...</td>\n",
       "      <td>https://www.youtube.com/watch?v=ckGsUMzFtAI</td>\n",
       "      <td>520,705회</td>\n",
       "    </tr>\n",
       "    <tr>\n",
       "      <th>9</th>\n",
       "      <td>♦️두툼한 등살♦️이 속시원하게 빠지는 등살파괴 7분 루틴 (등살에 팔뚝까지 난리남)</td>\n",
       "      <td>https://www.youtube.com/watch?v=6Q8VKdNFq-I</td>\n",
       "      <td>895,276회</td>\n",
       "    </tr>\n",
       "    <tr>\n",
       "      <th>10</th>\n",
       "      <td>하루 운동 이거로 끝! [유산소 + 미운지방] 한방에 정리하는 30분 홈트루틴🔥</td>\n",
       "      <td>https://www.youtube.com/watch?v=3NlIO4PN-ic</td>\n",
       "      <td>463,239회</td>\n",
       "    </tr>\n",
       "    <tr>\n",
       "      <th>11</th>\n",
       "      <td>건강을 해치는 다이어트 헬스를 하고 있나요? 건강하게 하는 방법! 지방과 근육의 관...</td>\n",
       "      <td>https://www.youtube.com/watch?v=um31PH24wvo</td>\n",
       "      <td>9,216회</td>\n",
       "    </tr>\n",
       "    <tr>\n",
       "      <th>12</th>\n",
       "      <td>[플랭크의 정석] 정확한 동작, 내 몸에 맞는 플랭크, 허리/팔꿈치 아픈 이유와 해...</td>\n",
       "      <td>https://www.youtube.com/watch?v=qJRyY9q1AmQ</td>\n",
       "      <td>2,038,361회</td>\n",
       "    </tr>\n",
       "    <tr>\n",
       "      <th>13</th>\n",
       "      <td>다이어트할 때 치킨먹는 사람, 나야 나</td>\n",
       "      <td>https://www.youtube.com/watch?v=IgrGbVFRhP8</td>\n",
       "      <td>390,462회</td>\n",
       "    </tr>\n",
       "    <tr>\n",
       "      <th>14</th>\n",
       "      <td>SUB)🥑초간단! 누구나 따라할 수 있는 맛있고 든든한 다이어트식단 요리브이로그(오...</td>\n",
       "      <td>https://www.youtube.com/watch?v=YhKo_AtdzsY</td>\n",
       "      <td>168,614회</td>\n",
       "    </tr>\n",
       "    <tr>\n",
       "      <th>15</th>\n",
       "      <td>♦️옆으로 넓게퍼진 팔뚝♦️에서 일자로 똑 떨어지는 슬림탄탄 팔뚝 되기</td>\n",
       "      <td>https://www.youtube.com/watch?v=KyJa1cclunU</td>\n",
       "      <td>4,044,589회</td>\n",
       "    </tr>\n",
       "    <tr>\n",
       "      <th>16</th>\n",
       "      <td>♦️부유방, 두갈래 겨드랑이살♦️5분만에 탈탈 털어버리는 루틴 (올여름 짱 덥대요!...</td>\n",
       "      <td>https://www.youtube.com/watch?v=_sBstPbAbm8</td>\n",
       "      <td>1,634,957회</td>\n",
       "    </tr>\n",
       "    <tr>\n",
       "      <th>17</th>\n",
       "      <td>♦️승마살 없애고 힙딥 채우는♦️ 2주완성! 강력 중둔근 운동루틴!</td>\n",
       "      <td>https://www.youtube.com/watch?v=nzd-isbtN_k</td>\n",
       "      <td>738,697회</td>\n",
       "    </tr>\n",
       "    <tr>\n",
       "      <th>18</th>\n",
       "      <td>[Eng] 다이어트할 때 절대 안 먹는 음식의 4가지 기준! 다이어트 식단 기준 같...</td>\n",
       "      <td>https://www.youtube.com/watch?v=3MZPH3ZuuVw</td>\n",
       "      <td>1,070,991회</td>\n",
       "    </tr>\n",
       "    <tr>\n",
       "      <th>19</th>\n",
       "      <td>[Eng] 다이어트 식단? 영양성분표에서 안 보면 후회하는 3가지 필수체크 사항ㅣ다노티비</td>\n",
       "      <td>https://www.youtube.com/watch?v=OIwYPA0Dgdg</td>\n",
       "      <td>65,504회</td>\n",
       "    </tr>\n",
       "    <tr>\n",
       "      <th>20</th>\n",
       "      <td>앞벅지 볼록, 뒷벅지 셀룰라이트, 허벅지 안쪽살 모조리 불태우고🔥 [여리탄탄 일자 ...</td>\n",
       "      <td>https://www.youtube.com/watch?v=dpBYYEhdofI</td>\n",
       "      <td>7,272,767회</td>\n",
       "    </tr>\n",
       "    <tr>\n",
       "      <th>21</th>\n",
       "      <td>간헐적단식-다이어트-할때-영양제-를 함께 꼭 먹어야 하는 이유!!!</td>\n",
       "      <td>https://www.youtube.com/watch?v=fUKw13cboig</td>\n",
       "      <td>16,971회</td>\n",
       "    </tr>\n",
       "    <tr>\n",
       "      <th>22</th>\n",
       "      <td>2달 10kg 감량! 쉽고, 빠른 건강 다이어트 단희쌤 간헐적 단식 완벽정리 [단희TV]</td>\n",
       "      <td>https://www.youtube.com/watch?v=N2-tctnjfSw</td>\n",
       "      <td>84,134회</td>\n",
       "    </tr>\n",
       "    <tr>\n",
       "      <th>23</th>\n",
       "      <td>운동하기 귀찮은 날, 딱 이 [복근루틴 10분]만 함께해요! (바로시작 1:31)</td>\n",
       "      <td>https://www.youtube.com/watch?v=kgtKs4YCKcE</td>\n",
       "      <td>1,413,534회</td>\n",
       "    </tr>\n",
       "    <tr>\n",
       "      <th>24</th>\n",
       "      <td>빼면 찌고 빼면 찌고 끝나지 않는 다이어트 😵 혹시 지금 몸무게가 평생 내 몸무게😱...</td>\n",
       "      <td>https://www.youtube.com/watch?v=wBedLRpoowI</td>\n",
       "      <td>67,269회</td>\n",
       "    </tr>\n",
       "    <tr>\n",
       "      <th>25</th>\n",
       "      <td>[다이어트] 아무리 노력해도 살이 빠지지 않는 의외의 3가지 이유와 해결책</td>\n",
       "      <td>https://www.youtube.com/watch?v=z39rNuWfqJE</td>\n",
       "      <td>10,327회</td>\n",
       "    </tr>\n",
       "    <tr>\n",
       "      <th>26</th>\n",
       "      <td>SUB)🍱 누구나 쉽게 따라할 수 있는 맛있고 건강한 다이어트 도시락 요리브이로그|...</td>\n",
       "      <td>https://www.youtube.com/watch?v=mcfcd1l6mFg</td>\n",
       "      <td>164,091회</td>\n",
       "    </tr>\n",
       "    <tr>\n",
       "      <th>27</th>\n",
       "      <td>저랑 다이어트 식단 장보러 가볼까요?👀 [다이어트 음식 장보기 꿀팁 대방출 vlog...</td>\n",
       "      <td>https://www.youtube.com/watch?v=kdgmDPNqUkE</td>\n",
       "      <td>241,870회</td>\n",
       "    </tr>\n",
       "    <tr>\n",
       "      <th>28</th>\n",
       "      <td>ENG) DIET VLOG [🍒일주일간 다이어트 식단 모두기록] 47kg를 향하여 ...</td>\n",
       "      <td>https://www.youtube.com/watch?v=u0axxi31jZY</td>\n",
       "      <td>787,413회</td>\n",
       "    </tr>\n",
       "    <tr>\n",
       "      <th>29</th>\n",
       "      <td>♦️근육&amp;지방 공존하는 하체♦️에서 슬림탄탄, 여리여리한 허벅지 만들기 2주 루틴</td>\n",
       "      <td>https://www.youtube.com/watch?v=hOSHQvFme7E</td>\n",
       "      <td>6,830,023회</td>\n",
       "    </tr>\n",
       "    <tr>\n",
       "      <th>30</th>\n",
       "      <td>40~50대를 위한 건강한 다이어트 방법과 식단 모두공개 (굿오쩡이 서효정)</td>\n",
       "      <td>https://www.youtube.com/watch?v=JyIvc16vxOI</td>\n",
       "      <td>10,176회</td>\n",
       "    </tr>\n",
       "    <tr>\n",
       "      <th>31</th>\n",
       "      <td>[-20kg 감량] 다이어트 초보를 위한 아주 쉬운 식단팁 2가지! (다이어트팁,식...</td>\n",
       "      <td>https://www.youtube.com/watch?v=mQoJtJCdeGw</td>\n",
       "      <td>360,555회</td>\n",
       "    </tr>\n",
       "    <tr>\n",
       "      <th>32</th>\n",
       "      <td>(SUB) TVicton (세준이의 다이어트 팁)</td>\n",
       "      <td>https://www.youtube.com/watch?v=WiptGpn3xsw</td>\n",
       "      <td>29,867회</td>\n",
       "    </tr>\n",
       "    <tr>\n",
       "      <th>33</th>\n",
       "      <td>폭식습관이 사라지는 유일한 다이어트 방법 [탈다이어트 level1]</td>\n",
       "      <td>https://www.youtube.com/watch?v=TQ_4ZxgRfCE</td>\n",
       "      <td>108,091회</td>\n",
       "    </tr>\n",
       "    <tr>\n",
       "      <th>34</th>\n",
       "      <td>간헐적단식 -시간제한다이어트 -오토파지- 다이어트할 때 아침식사 하는것이 좋은가? ...</td>\n",
       "      <td>https://www.youtube.com/watch?v=2DOE6EqN5mM</td>\n",
       "      <td>124,613회</td>\n",
       "    </tr>\n",
       "    <tr>\n",
       "      <th>35</th>\n",
       "      <td>다이어트 전신운동 동작 BEST 5ㅣ체지방 감량에 미친 효과 뚜둥! @초보버전 @하...</td>\n",
       "      <td>https://www.youtube.com/watch?v=Fzt8sXgeO_A</td>\n",
       "      <td>309,944회</td>\n",
       "    </tr>\n",
       "  </tbody>\n",
       "</table>\n",
       "</div>"
      ],
      "text/plain": [
       "                                                   제목  \\\n",
       "0                         총 1억. 다이어트 내기를 해봤습니다 (EP 1)   \n",
       "1    건강강의-다이어트-할때 이것 모르면 실패합니다. - 혈당지수 Glycemic index   \n",
       "2       Eng Sub -12kg 요요없는 다이어트 방법 | 효과적인 식단•운동•유지 방법   \n",
       "3   (ENG) [하루5분/2주완성/효과보장] 두턱을 없애고 날렵한 턱선을 가질 수 있는...   \n",
       "4    🔥허벅지살, 뱃살, 팔뚝살, 등살, 뒷구리살🔥을 '한번에 모조리' 불태우는 10분 루틴   \n",
       "5              다이어트-건강강의-심리학강의-믿음 다이어트 생각이 바뀌면 살이 빠진다   \n",
       "6   [Eng/새천년 다이어트 유산소운동] 10분만에 땀이 주륵주륵💦 다이어트 200% ...   \n",
       "7   (EN/JP) 비x일주어터 다이어트 프로젝트ㅣ 100kg 👉 XXkg 대반전 결과 ...   \n",
       "8   [Eng] 다이어트 운동! 운동장 100바퀴? or 러닝머신만? 💥그렇다면 오늘 영...   \n",
       "9     ♦️두툼한 등살♦️이 속시원하게 빠지는 등살파괴 7분 루틴 (등살에 팔뚝까지 난리남)   \n",
       "10       하루 운동 이거로 끝! [유산소 + 미운지방] 한방에 정리하는 30분 홈트루틴🔥   \n",
       "11  건강을 해치는 다이어트 헬스를 하고 있나요? 건강하게 하는 방법! 지방과 근육의 관...   \n",
       "12  [플랭크의 정석] 정확한 동작, 내 몸에 맞는 플랭크, 허리/팔꿈치 아픈 이유와 해...   \n",
       "13                              다이어트할 때 치킨먹는 사람, 나야 나   \n",
       "14  SUB)🥑초간단! 누구나 따라할 수 있는 맛있고 든든한 다이어트식단 요리브이로그(오...   \n",
       "15            ♦️옆으로 넓게퍼진 팔뚝♦️에서 일자로 똑 떨어지는 슬림탄탄 팔뚝 되기   \n",
       "16  ♦️부유방, 두갈래 겨드랑이살♦️5분만에 탈탈 털어버리는 루틴 (올여름 짱 덥대요!...   \n",
       "17              ♦️승마살 없애고 힙딥 채우는♦️ 2주완성! 강력 중둔근 운동루틴!   \n",
       "18  [Eng] 다이어트할 때 절대 안 먹는 음식의 4가지 기준! 다이어트 식단 기준 같...   \n",
       "19  [Eng] 다이어트 식단? 영양성분표에서 안 보면 후회하는 3가지 필수체크 사항ㅣ다노티비   \n",
       "20  앞벅지 볼록, 뒷벅지 셀룰라이트, 허벅지 안쪽살 모조리 불태우고🔥 [여리탄탄 일자 ...   \n",
       "21              간헐적단식-다이어트-할때-영양제-를 함께 꼭 먹어야 하는 이유!!!   \n",
       "22  2달 10kg 감량! 쉽고, 빠른 건강 다이어트 단희쌤 간헐적 단식 완벽정리 [단희TV]   \n",
       "23      운동하기 귀찮은 날, 딱 이 [복근루틴 10분]만 함께해요! (바로시작 1:31)   \n",
       "24  빼면 찌고 빼면 찌고 끝나지 않는 다이어트 😵 혹시 지금 몸무게가 평생 내 몸무게😱...   \n",
       "25          [다이어트] 아무리 노력해도 살이 빠지지 않는 의외의 3가지 이유와 해결책   \n",
       "26  SUB)🍱 누구나 쉽게 따라할 수 있는 맛있고 건강한 다이어트 도시락 요리브이로그|...   \n",
       "27  저랑 다이어트 식단 장보러 가볼까요?👀 [다이어트 음식 장보기 꿀팁 대방출 vlog...   \n",
       "28  ENG) DIET VLOG [🍒일주일간 다이어트 식단 모두기록] 47kg를 향하여 ...   \n",
       "29      ♦️근육&지방 공존하는 하체♦️에서 슬림탄탄, 여리여리한 허벅지 만들기 2주 루틴   \n",
       "30         40~50대를 위한 건강한 다이어트 방법과 식단 모두공개 (굿오쩡이 서효정)   \n",
       "31  [-20kg 감량] 다이어트 초보를 위한 아주 쉬운 식단팁 2가지! (다이어트팁,식...   \n",
       "32                        (SUB) TVicton (세준이의 다이어트 팁)   \n",
       "33              폭식습관이 사라지는 유일한 다이어트 방법 [탈다이어트 level1]   \n",
       "34  간헐적단식 -시간제한다이어트 -오토파지- 다이어트할 때 아침식사 하는것이 좋은가? ...   \n",
       "35  다이어트 전신운동 동작 BEST 5ㅣ체지방 감량에 미친 효과 뚜둥! @초보버전 @하...   \n",
       "\n",
       "                                             주소         조회수  \n",
       "0   https://www.youtube.com/watch?v=hxj5eorjN3c  1,006,485회  \n",
       "1   https://www.youtube.com/watch?v=F9qFVVaa17Q      3,779회  \n",
       "2   https://www.youtube.com/watch?v=Aj1j7ROBkVk  1,031,441회  \n",
       "3   https://www.youtube.com/watch?v=kyxKr6cM1Yk  2,592,247회  \n",
       "4   https://www.youtube.com/watch?v=HqEQ7oazmjg    515,450회  \n",
       "5   https://www.youtube.com/watch?v=C6sUpgyeszs      4,937회  \n",
       "6   https://www.youtube.com/watch?v=1XVinl_y9T8    119,976회  \n",
       "7   https://www.youtube.com/watch?v=LH-nmprd5YY  3,370,805회  \n",
       "8   https://www.youtube.com/watch?v=ckGsUMzFtAI    520,705회  \n",
       "9   https://www.youtube.com/watch?v=6Q8VKdNFq-I    895,276회  \n",
       "10  https://www.youtube.com/watch?v=3NlIO4PN-ic    463,239회  \n",
       "11  https://www.youtube.com/watch?v=um31PH24wvo      9,216회  \n",
       "12  https://www.youtube.com/watch?v=qJRyY9q1AmQ  2,038,361회  \n",
       "13  https://www.youtube.com/watch?v=IgrGbVFRhP8    390,462회  \n",
       "14  https://www.youtube.com/watch?v=YhKo_AtdzsY    168,614회  \n",
       "15  https://www.youtube.com/watch?v=KyJa1cclunU  4,044,589회  \n",
       "16  https://www.youtube.com/watch?v=_sBstPbAbm8  1,634,957회  \n",
       "17  https://www.youtube.com/watch?v=nzd-isbtN_k    738,697회  \n",
       "18  https://www.youtube.com/watch?v=3MZPH3ZuuVw  1,070,991회  \n",
       "19  https://www.youtube.com/watch?v=OIwYPA0Dgdg     65,504회  \n",
       "20  https://www.youtube.com/watch?v=dpBYYEhdofI  7,272,767회  \n",
       "21  https://www.youtube.com/watch?v=fUKw13cboig     16,971회  \n",
       "22  https://www.youtube.com/watch?v=N2-tctnjfSw     84,134회  \n",
       "23  https://www.youtube.com/watch?v=kgtKs4YCKcE  1,413,534회  \n",
       "24  https://www.youtube.com/watch?v=wBedLRpoowI     67,269회  \n",
       "25  https://www.youtube.com/watch?v=z39rNuWfqJE     10,327회  \n",
       "26  https://www.youtube.com/watch?v=mcfcd1l6mFg    164,091회  \n",
       "27  https://www.youtube.com/watch?v=kdgmDPNqUkE    241,870회  \n",
       "28  https://www.youtube.com/watch?v=u0axxi31jZY    787,413회  \n",
       "29  https://www.youtube.com/watch?v=hOSHQvFme7E  6,830,023회  \n",
       "30  https://www.youtube.com/watch?v=JyIvc16vxOI     10,176회  \n",
       "31  https://www.youtube.com/watch?v=mQoJtJCdeGw    360,555회  \n",
       "32  https://www.youtube.com/watch?v=WiptGpn3xsw     29,867회  \n",
       "33  https://www.youtube.com/watch?v=TQ_4ZxgRfCE    108,091회  \n",
       "34  https://www.youtube.com/watch?v=2DOE6EqN5mM    124,613회  \n",
       "35  https://www.youtube.com/watch?v=Fzt8sXgeO_A    309,944회  "
      ]
     },
     "execution_count": 28,
     "metadata": {},
     "output_type": "execute_result"
    }
   ],
   "source": [
    "youtubeDf"
   ]
  },
  {
   "cell_type": "code",
   "execution_count": 160,
   "id": "0a4d184f",
   "metadata": {},
   "outputs": [],
   "source": [
    "youtubeDf.to_csv('다이어트.csv', encoding='utf-8', index=False)"
   ]
  },
  {
   "cell_type": "code",
   "execution_count": 45,
   "id": "d2b96d5a",
   "metadata": {
    "collapsed": true
   },
   "outputs": [
    {
     "data": {
      "text/plain": [
       "['https://img.youtube.com/vi/hxj5eorjN3c/mqdefault.jpg',\n",
       " 'https://img.youtube.com/vi/F9qFVVaa17Q/mqdefault.jpg',\n",
       " 'https://img.youtube.com/vi/Aj1j7ROBkVk/mqdefault.jpg',\n",
       " 'https://img.youtube.com/vi/kyxKr6cM1Yk/mqdefault.jpg',\n",
       " 'https://img.youtube.com/vi/HqEQ7oazmjg/mqdefault.jpg',\n",
       " 'https://img.youtube.com/vi/C6sUpgyeszs/mqdefault.jpg',\n",
       " 'https://img.youtube.com/vi/1XVinl_y9T8/mqdefault.jpg',\n",
       " 'https://img.youtube.com/vi/LH-nmprd5YY/mqdefault.jpg',\n",
       " 'https://img.youtube.com/vi/ckGsUMzFtAI/mqdefault.jpg',\n",
       " 'https://img.youtube.com/vi/6Q8VKdNFq-I/mqdefault.jpg',\n",
       " 'https://img.youtube.com/vi/3NlIO4PN-ic/mqdefault.jpg',\n",
       " 'https://img.youtube.com/vi/um31PH24wvo/mqdefault.jpg',\n",
       " 'https://img.youtube.com/vi/qJRyY9q1AmQ/mqdefault.jpg',\n",
       " 'https://img.youtube.com/vi/IgrGbVFRhP8/mqdefault.jpg',\n",
       " 'https://img.youtube.com/vi/YhKo_AtdzsY/mqdefault.jpg',\n",
       " 'https://img.youtube.com/vi/KyJa1cclunU/mqdefault.jpg',\n",
       " 'https://img.youtube.com/vi/_sBstPbAbm8/mqdefault.jpg',\n",
       " 'https://img.youtube.com/vi/nzd-isbtN_k/mqdefault.jpg',\n",
       " 'https://img.youtube.com/vi/3MZPH3ZuuVw/mqdefault.jpg',\n",
       " 'https://img.youtube.com/vi/OIwYPA0Dgdg/mqdefault.jpg',\n",
       " 'https://img.youtube.com/vi/dpBYYEhdofI/mqdefault.jpg',\n",
       " 'https://img.youtube.com/vi/fUKw13cboig/mqdefault.jpg',\n",
       " 'https://img.youtube.com/vi/N2-tctnjfSw/mqdefault.jpg',\n",
       " 'https://img.youtube.com/vi/kgtKs4YCKcE/mqdefault.jpg',\n",
       " 'https://img.youtube.com/vi/wBedLRpoowI/mqdefault.jpg',\n",
       " 'https://img.youtube.com/vi/z39rNuWfqJE/mqdefault.jpg',\n",
       " 'https://img.youtube.com/vi/mcfcd1l6mFg/mqdefault.jpg',\n",
       " 'https://img.youtube.com/vi/kdgmDPNqUkE/mqdefault.jpg',\n",
       " 'https://img.youtube.com/vi/u0axxi31jZY/mqdefault.jpg',\n",
       " 'https://img.youtube.com/vi/hOSHQvFme7E/mqdefault.jpg',\n",
       " 'https://img.youtube.com/vi/JyIvc16vxOI/mqdefault.jpg',\n",
       " 'https://img.youtube.com/vi/mQoJtJCdeGw/mqdefault.jpg',\n",
       " 'https://img.youtube.com/vi/WiptGpn3xsw/mqdefault.jpg',\n",
       " 'https://img.youtube.com/vi/TQ_4ZxgRfCE/mqdefault.jpg',\n",
       " 'https://img.youtube.com/vi/2DOE6EqN5mM/mqdefault.jpg',\n",
       " 'https://img.youtube.com/vi/Fzt8sXgeO_A/mqdefault.jpg']"
      ]
     },
     "execution_count": 45,
     "metadata": {},
     "output_type": "execute_result"
    }
   ],
   "source": [
    "img_list=[]\n",
    "cnt=0\n",
    "for i in url_list :\n",
    "    a=url_list[cnt][32:]\n",
    "    b=\"https://img.youtube.com/vi/\"+a+\"/mqdefault.jpg\"\n",
    "    img_list.append(b)\n",
    "    cnt+=1    \n",
    "img_list"
   ]
  },
  {
   "cell_type": "code",
   "execution_count": 46,
   "id": "2a6aee4f",
   "metadata": {},
   "outputs": [],
   "source": [
    "cnt=0\n",
    "for src in img_list:\n",
    "    cnt+=1\n",
    "    urlretrieve(src,\"./img/{}.png\".format(cnt))"
   ]
  },
  {
   "cell_type": "code",
   "execution_count": null,
   "id": "9b092a81",
   "metadata": {},
   "outputs": [],
   "source": []
  },
  {
   "cell_type": "code",
   "execution_count": null,
   "id": "cd11ea9f",
   "metadata": {},
   "outputs": [],
   "source": []
  },
  {
   "cell_type": "code",
   "execution_count": null,
   "id": "6bc5877c",
   "metadata": {},
   "outputs": [],
   "source": []
  },
  {
   "cell_type": "code",
   "execution_count": null,
   "id": "87fbe1ca",
   "metadata": {},
   "outputs": [],
   "source": []
  },
  {
   "cell_type": "code",
   "execution_count": null,
   "id": "2d609ccb",
   "metadata": {},
   "outputs": [],
   "source": []
  }
 ],
 "metadata": {
  "kernelspec": {
   "display_name": "Python 3 (ipykernel)",
   "language": "python",
   "name": "python3"
  },
  "language_info": {
   "codemirror_mode": {
    "name": "ipython",
    "version": 3
   },
   "file_extension": ".py",
   "mimetype": "text/x-python",
   "name": "python",
   "nbconvert_exporter": "python",
   "pygments_lexer": "ipython3",
   "version": "3.9.7"
  }
 },
 "nbformat": 4,
 "nbformat_minor": 5
}
