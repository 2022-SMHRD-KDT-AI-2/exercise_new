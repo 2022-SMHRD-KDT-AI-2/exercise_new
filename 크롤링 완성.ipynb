{
 "cells": [
  {
   "cell_type": "code",
   "execution_count": 20,
   "id": "bd22069f",
   "metadata": {},
   "outputs": [],
   "source": [
    "from selenium import webdriver\n",
    "import time\n",
    "from bs4 import BeautifulSoup as bs\n",
    "import pandas as pd"
   ]
  },
  {
   "cell_type": "code",
   "execution_count": 3,
   "id": "99cadd09",
   "metadata": {},
   "outputs": [
    {
     "data": {
      "text/plain": [
       "'https://www.youtube.com/results?search_query=다이어트'"
      ]
     },
     "execution_count": 3,
     "metadata": {},
     "output_type": "execute_result"
    }
   ],
   "source": [
    "keyword = '다이어트'\n",
    "url = 'https://www.youtube.com/results?search_query='+keyword\n",
    "url"
   ]
  },
  {
   "cell_type": "code",
   "execution_count": 4,
   "id": "f7cad066",
   "metadata": {
    "scrolled": true
   },
   "outputs": [
    {
     "name": "stderr",
     "output_type": "stream",
     "text": [
      "C:\\Users\\smhrd\\AppData\\Local\\Temp/ipykernel_9124/1307687985.py:1: DeprecationWarning: executable_path has been deprecated, please pass in a Service object\n",
      "  driver = webdriver.Chrome('chromedriver.exe')\n"
     ]
    }
   ],
   "source": [
    "driver = webdriver.Chrome('chromedriver.exe')\n",
    "driver.get(url)"
   ]
  },
  {
   "cell_type": "code",
   "execution_count": 9,
   "id": "eeec33fe",
   "metadata": {},
   "outputs": [
    {
     "name": "stderr",
     "output_type": "stream",
     "text": [
      "C:\\Users\\smhrd\\AppData\\Local\\Temp/ipykernel_9124/1617848897.py:1: DeprecationWarning: find_element_by_* commands are deprecated. Please use find_element() instead\n",
      "  driver.find_element_by_xpath('//*[@id=\"container\"]/ytd-toggle-button-renderer/a').click()\n",
      "C:\\Users\\smhrd\\AppData\\Local\\Temp/ipykernel_9124/1617848897.py:3: DeprecationWarning: find_element_by_* commands are deprecated. Please use find_element() instead\n",
      "  driver.find_element_by_css_selector(\"#collapse-content ytd-search-filter-group-renderer:nth-child(4) ytd-search-filter-renderer:nth-of-type(5) a\").click()\n"
     ]
    }
   ],
   "source": [
    "driver.find_element_by_xpath('//*[@id=\"container\"]/ytd-toggle-button-renderer/a').click()\n",
    "time.sleep(0.5)\n",
    "driver.find_element_by_css_selector(\"#collapse-content ytd-search-filter-group-renderer:nth-child(4) ytd-search-filter-renderer:nth-of-type(5) a\").click()\n",
    "time.sleep(0.5)"
   ]
  },
  {
   "cell_type": "code",
   "execution_count": 12,
   "id": "c0ff042a",
   "metadata": {
    "scrolled": true
   },
   "outputs": [],
   "source": [
    "soup = bs(driver.page_source, 'html.parser')"
   ]
  },
  {
   "cell_type": "code",
   "execution_count": 24,
   "id": "65eaa2c6",
   "metadata": {},
   "outputs": [],
   "source": [
    "name = soup.select('a#video-title')\n",
    "video_url = soup.select('a#video-title')\n",
    "view = soup.select('a#video-title')"
   ]
  },
  {
   "cell_type": "code",
   "execution_count": 23,
   "id": "f772c8ce",
   "metadata": {},
   "outputs": [],
   "source": [
    "name_list = []\n",
    "url_list = []\n",
    "view_list = []\n",
    "chanel_list = []"
   ]
  },
  {
   "cell_type": "code",
   "execution_count": 16,
   "id": "ca221d0d",
   "metadata": {},
   "outputs": [],
   "source": [
    "for i in range(len(name)):\n",
    "    name_list.append(name[i].text.strip())\n",
    "    view_list.append(view[i].get('aria-label').split()[-1])\n",
    "    chanel_list.append(chanel[i].get('aria-label').split()[-])"
   ]
  },
  {
   "cell_type": "code",
   "execution_count": 17,
   "id": "17144d7a",
   "metadata": {},
   "outputs": [],
   "source": [
    "youtube_result = {\n",
    "    '제목': name_list,\n",
    "    '주소': url_list,\n",
    "    '조회수': view_list\n",
    "}"
   ]
  },
  {
   "cell_type": "code",
   "execution_count": 21,
   "id": "4b51be75",
   "metadata": {},
   "outputs": [],
   "source": [
    "youtubeDf = pd.DataFrame(youtube_result)"
   ]
  },
  {
   "cell_type": "code",
   "execution_count": 22,
   "id": "b78de658",
   "metadata": {},
   "outputs": [],
   "source": [
    "youtubeDf.to_csv('다이어트.csv', encoding='utf-8', index=False)"
   ]
  }
 ],
 "metadata": {
  "kernelspec": {
   "display_name": "Python 3 (ipykernel)",
   "language": "python",
   "name": "python3"
  },
  "language_info": {
   "codemirror_mode": {
    "name": "ipython",
    "version": 3
   },
   "file_extension": ".py",
   "mimetype": "text/x-python",
   "name": "python",
   "nbconvert_exporter": "python",
   "pygments_lexer": "ipython3",
   "version": "3.9.7"
  }
 },
 "nbformat": 4,
 "nbformat_minor": 5
}
