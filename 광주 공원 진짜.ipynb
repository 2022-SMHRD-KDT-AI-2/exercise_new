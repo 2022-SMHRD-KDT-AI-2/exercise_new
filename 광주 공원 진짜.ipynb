{
 "cells": [
  {
   "cell_type": "code",
   "execution_count": 5,
   "id": "b1fe773a",
   "metadata": {},
   "outputs": [],
   "source": [
    "import pandas as pd # pandas 모듈 로드\n",
    "import json  # json 모듈 로드\n",
    "import requests"
   ]
  },
  {
   "cell_type": "code",
   "execution_count": 86,
   "id": "d1c0847b",
   "metadata": {},
   "outputs": [],
   "source": []
  },
  {
   "cell_type": "code",
   "execution_count": 90,
   "id": "4efd2415",
   "metadata": {},
   "outputs": [
    {
     "data": {
      "text/plain": [
       "'{\"response\":{\"header\":{\"resultCode\":\"00\",\"resultMsg\":\"NORMAL_CODE\"},\"body\":{\"items\":[{\"make_type\":\"조성\",\"num\":\"1437\",\"make_2\":\"\",\"make_1\":\"11,024.00\",\"make_3\":\"\",\"organ_nm\":\"운암제3\",\"type1\":\"근린공원\",\"sigungu_nm\":\"북구\",\"st_add\":\"북구 운암동 산94\"},{\"make_type\":\"조성중\",\"num\":\"1438\",\"make_2\":\"27,256.00\",\"make_1\":\"\",\"make_3\":\"\",\"organ_nm\":\"신용(용두초)\",\"type1\":\"근린공원\",\"sigungu_nm\":\"북구\",\"st_add\":\"북구 신용동 산36\"},{\"make_type\":\"조성중\",\"num\":\"1439\",\"make_2\":\"330,707.00\",\"make_1\":\"47,424.00\",\"make_3\":\"\",\"organ_nm\":\"운암산\",\"type1\":\"근린공원\",\"sigungu_nm\":\"북구\",\"st_add\":\"북구 동림동 산24\"},{\"make_type\":\"조성중\",\"num\":\"1440\",\"make_2\":\"1,063,099.10\",\"make_1\":\"13,035.00\",\"make_3\":\"\",\"organ_nm\":\"일곡\",\"type1\":\"근린공원\",\"sigungu_nm\":\"북구\",\"st_add\":\"북구 일곡동 산116\"},{\"make_type\":\"조성중\",\"num\":\"1441\",\"make_2\":\"15,499.00\",\"make_1\":\"\",\"make_3\":\"\",\"organ_nm\":\"양산\",\"type1\":\"근린공원\",\"sigungu_nm\":\"북구\",\"st_add\":\"북구 신용동 624-62\"},{\"make_type\":\"미조성\",\"num\":\"1442\",\"make_2\":\"\",\"make_1\":\"\",\"make_3\":\"6,246.00\",\"organ_nm\":\"풍향동주택재개발\",\"type1\":\"근린공원\",\"sigungu_nm\":\"북구\",\"st_add\":\"북구 풍향동 602-10\"},{\"make_type\":\"미조성\",\"num\":\"1443\",\"make_2\":\"\",\"make_1\":\"\",\"make_3\":\"7,832.00\",\"organ_nm\":\"중흥3구역\",\"type1\":\"근린공원\",\"sigungu_nm\":\"북구\",\"st_add\":\"북구 중흥동 367-43\"},{\"make_type\":\"조성\",\"num\":\"1444\",\"make_2\":\"\",\"make_1\":\"36,141.00\",\"make_3\":\"\",\"organ_nm\":\"하남\",\"type1\":\"근린공원\",\"sigungu_nm\":\"광산구\",\"st_add\":\"광산구 하남동 499-3\\\\n(하남산단)\"},{\"make_type\":\"조성\",\"num\":\"1445\",\"make_2\":\"\",\"make_1\":\"22,460.20\",\"make_3\":\"\",\"organ_nm\":\"월곡\",\"type1\":\"근린공원\",\"sigungu_nm\":\"광산구\",\"st_add\":\"광산구 월곡동 587\\\\n(하남지구)\"},{\"make_type\":\"조성\",\"num\":\"1446\",\"make_2\":\"\",\"make_1\":\"43,860.00\",\"make_3\":\"\",\"organ_nm\":\"산정\",\"type1\":\"근린공원\",\"sigungu_nm\":\"광산구\",\"st_add\":\"광산구 월곡동 539\\\\n(하남지구)\"}]}}}'"
      ]
     },
     "execution_count": 90,
     "metadata": {},
     "output_type": "execute_result"
    }
   ],
   "source": [
    "num=10\n",
    "url='https://bigdata.gwangju.go.kr/gjAPI/getCityPark/getCityParklist.rd?apiSrvCd=0030&pageNo='+str(num)+'&numOfRow=10'\n",
    "url\n",
    "\n",
    "res=requests.get(url)\n",
    "res.text"
   ]
  },
  {
   "cell_type": "code",
   "execution_count": 92,
   "id": "fc531722",
   "metadata": {},
   "outputs": [],
   "source": [
    "data = json.loads(res.text)"
   ]
  },
  {
   "cell_type": "code",
   "execution_count": 93,
   "id": "fed851c6",
   "metadata": {
    "scrolled": true
   },
   "outputs": [
    {
     "data": {
      "text/plain": [
       "{'response': {'header': {'resultCode': '00', 'resultMsg': 'NORMAL_CODE'},\n",
       "  'body': {'items': [{'make_type': '조성',\n",
       "     'num': '1437',\n",
       "     'make_2': '',\n",
       "     'make_1': '11,024.00',\n",
       "     'make_3': '',\n",
       "     'organ_nm': '운암제3',\n",
       "     'type1': '근린공원',\n",
       "     'sigungu_nm': '북구',\n",
       "     'st_add': '북구 운암동 산94'},\n",
       "    {'make_type': '조성중',\n",
       "     'num': '1438',\n",
       "     'make_2': '27,256.00',\n",
       "     'make_1': '',\n",
       "     'make_3': '',\n",
       "     'organ_nm': '신용(용두초)',\n",
       "     'type1': '근린공원',\n",
       "     'sigungu_nm': '북구',\n",
       "     'st_add': '북구 신용동 산36'},\n",
       "    {'make_type': '조성중',\n",
       "     'num': '1439',\n",
       "     'make_2': '330,707.00',\n",
       "     'make_1': '47,424.00',\n",
       "     'make_3': '',\n",
       "     'organ_nm': '운암산',\n",
       "     'type1': '근린공원',\n",
       "     'sigungu_nm': '북구',\n",
       "     'st_add': '북구 동림동 산24'},\n",
       "    {'make_type': '조성중',\n",
       "     'num': '1440',\n",
       "     'make_2': '1,063,099.10',\n",
       "     'make_1': '13,035.00',\n",
       "     'make_3': '',\n",
       "     'organ_nm': '일곡',\n",
       "     'type1': '근린공원',\n",
       "     'sigungu_nm': '북구',\n",
       "     'st_add': '북구 일곡동 산116'},\n",
       "    {'make_type': '조성중',\n",
       "     'num': '1441',\n",
       "     'make_2': '15,499.00',\n",
       "     'make_1': '',\n",
       "     'make_3': '',\n",
       "     'organ_nm': '양산',\n",
       "     'type1': '근린공원',\n",
       "     'sigungu_nm': '북구',\n",
       "     'st_add': '북구 신용동 624-62'},\n",
       "    {'make_type': '미조성',\n",
       "     'num': '1442',\n",
       "     'make_2': '',\n",
       "     'make_1': '',\n",
       "     'make_3': '6,246.00',\n",
       "     'organ_nm': '풍향동주택재개발',\n",
       "     'type1': '근린공원',\n",
       "     'sigungu_nm': '북구',\n",
       "     'st_add': '북구 풍향동 602-10'},\n",
       "    {'make_type': '미조성',\n",
       "     'num': '1443',\n",
       "     'make_2': '',\n",
       "     'make_1': '',\n",
       "     'make_3': '7,832.00',\n",
       "     'organ_nm': '중흥3구역',\n",
       "     'type1': '근린공원',\n",
       "     'sigungu_nm': '북구',\n",
       "     'st_add': '북구 중흥동 367-43'},\n",
       "    {'make_type': '조성',\n",
       "     'num': '1444',\n",
       "     'make_2': '',\n",
       "     'make_1': '36,141.00',\n",
       "     'make_3': '',\n",
       "     'organ_nm': '하남',\n",
       "     'type1': '근린공원',\n",
       "     'sigungu_nm': '광산구',\n",
       "     'st_add': '광산구 하남동 499-3\\n(하남산단)'},\n",
       "    {'make_type': '조성',\n",
       "     'num': '1445',\n",
       "     'make_2': '',\n",
       "     'make_1': '22,460.20',\n",
       "     'make_3': '',\n",
       "     'organ_nm': '월곡',\n",
       "     'type1': '근린공원',\n",
       "     'sigungu_nm': '광산구',\n",
       "     'st_add': '광산구 월곡동 587\\n(하남지구)'},\n",
       "    {'make_type': '조성',\n",
       "     'num': '1446',\n",
       "     'make_2': '',\n",
       "     'make_1': '43,860.00',\n",
       "     'make_3': '',\n",
       "     'organ_nm': '산정',\n",
       "     'type1': '근린공원',\n",
       "     'sigungu_nm': '광산구',\n",
       "     'st_add': '광산구 월곡동 539\\n(하남지구)'}]}}}"
      ]
     },
     "execution_count": 93,
     "metadata": {},
     "output_type": "execute_result"
    }
   ],
   "source": [
    "data"
   ]
  },
  {
   "cell_type": "code",
   "execution_count": 41,
   "id": "b831f9c9",
   "metadata": {},
   "outputs": [
    {
     "data": {
      "text/plain": [
       "10"
      ]
     },
     "execution_count": 41,
     "metadata": {},
     "output_type": "execute_result"
    }
   ],
   "source": [
    "len(data['response']['body']['items'])"
   ]
  },
  {
   "cell_type": "code",
   "execution_count": 32,
   "id": "9241d7ab",
   "metadata": {},
   "outputs": [
    {
     "data": {
      "text/plain": [
       "'동구 계림동~남구 진월동'"
      ]
     },
     "execution_count": 32,
     "metadata": {},
     "output_type": "execute_result"
    }
   ],
   "source": [
    "name=data['response']['body']['items'][0]['organ_nm']\n",
    "sigungu=data['response']['body']['items'][0]['sigungu_nm']\n",
    "add=data['response']['body']['items'][0]['st_add']"
   ]
  },
  {
   "cell_type": "code",
   "execution_count": 77,
   "id": "f7f3f2c8",
   "metadata": {},
   "outputs": [],
   "source": [
    "names=[]\n",
    "sigungus=[]\n",
    "adds=[]"
   ]
  },
  {
   "cell_type": "code",
   "execution_count": 55,
   "id": "d615d5e5",
   "metadata": {},
   "outputs": [
    {
     "data": {
      "text/plain": [
       "10"
      ]
     },
     "execution_count": 55,
     "metadata": {},
     "output_type": "execute_result"
    }
   ],
   "source": [
    "a=len(data['response']['body']['items'])\n",
    "a"
   ]
  },
  {
   "cell_type": "code",
   "execution_count": 78,
   "id": "ae5e3bd2",
   "metadata": {},
   "outputs": [],
   "source": [
    "for i in range(1,11):    \n",
    "    for s in range(len(data['response']['body']['items'])):\n",
    "            \n",
    "        name=data['response']['body']['items'][s]['organ_nm']\n",
    "        sigungu=data['response']['body']['items'][s]['sigungu_nm']\n",
    "        add=data['response']['body']['items'][s]['st_add']\n",
    "\n",
    "        names.append(name)\n",
    "        sigungus.append(sigungu)\n",
    "        adds.append(add)\n",
    "    url='https://bigdata.gwangju.go.kr/gjAPI/getCityPark/getCityParklist.rd?apiSrvCd=0030&pageNo='+str(i)+'&numOfRow=10'    \n",
    "    res=requests.get(url)\n",
    "    res.text  \n",
    "    data = json.loads(res.text)\n",
    "        \n",
    "\n"
   ]
  },
  {
   "cell_type": "code",
   "execution_count": 79,
   "id": "70d9a866",
   "metadata": {
    "collapsed": true
   },
   "outputs": [
    {
     "data": {
      "text/plain": [
       "['운암제3',\n",
       " '신용(용두초)',\n",
       " '운암산',\n",
       " '일곡',\n",
       " '양산',\n",
       " '풍향동주택재개발',\n",
       " '중흥3구역',\n",
       " '하남',\n",
       " '월곡',\n",
       " '산정',\n",
       " '푸른길',\n",
       " '푸른길',\n",
       " '푸른길',\n",
       " '중앙',\n",
       " ' 중앙_백일산권역',\n",
       " '중앙_풍암산권역',\n",
       " '중앙_체육공원권역',\n",
       " '중앙_짚봉산권역',\n",
       " '중앙',\n",
       " '중앙',\n",
       " '영산강대상',\n",
       " '영산강대상_유덕1지구',\n",
       " '영산강대상_유덕2지구',\n",
       " '영산강대상_덕흥지구',\n",
       " '영산강대상_동림지구',\n",
       " '영산강대상_구산지구',\n",
       " '영산강대상_신창지구',\n",
       " '영산강대상_극락지구',\n",
       " '영산강대상_우산1지구',\n",
       " '영산강대상_우산2지구',\n",
       " '영산강대상_마륵지구',\n",
       " '영산강대상_첨단지구',\n",
       " '영산강대상_오룡지구',\n",
       " '영산강대상',\n",
       " '영산강대상',\n",
       " '영산강대상',\n",
       " '산수',\n",
       " '금남로',\n",
       " '두암제2',\n",
       " '학동',\n",
       " '계림4주택재개발',\n",
       " '용산',\n",
       " '염주',\n",
       " '5·18 기념',\n",
       " '시민',\n",
       " '마재',\n",
       " '신암',\n",
       " '풍암',\n",
       " '상무2지구근린1',\n",
       " '상무2지구근린2',\n",
       " '상무2지구근린3',\n",
       " '상무2지구근린4',\n",
       " '상무4지구근린1',\n",
       " '상록',\n",
       " '평화',\n",
       " '죽림',\n",
       " '유적',\n",
       " '화정',\n",
       " '발산',\n",
       " '운천',\n",
       " '마륵',\n",
       " '광천동주택재개발',\n",
       " '영외탄약고이전지',\n",
       " '봉선',\n",
       " '유안',\n",
       " '풀빛',\n",
       " '하늘빛',\n",
       " '물빛',\n",
       " '봉선2',\n",
       " '향등마을',\n",
       " '해마루',\n",
       " '천변길',\n",
       " '효천',\n",
       " '봉주',\n",
       " '송암',\n",
       " '월산',\n",
       " '방림',\n",
       " '도시첨단산단',\n",
       " '에너지밸리산단',\n",
       " '우치',\n",
       " '우치_주차장 및 운동시설지구',\n",
       " '우치_유희시설지구',\n",
       " '우치_동물원지구',\n",
       " '문화',\n",
       " '두암제1',\n",
       " '교통',\n",
       " '일곡제1',\n",
       " '일곡제2',\n",
       " '일곡제3',\n",
       " '신용빛고을\\n(첨단2주거1호)',\n",
       " '연제\\n(첨단2산업2호)',\n",
       " '신용강변\\n(첨단2주거3호)',\n",
       " '우산',\n",
       " '본촌',\n",
       " '중외',\n",
       " ' - 박물관지구',\n",
       " ' - 어린이대공원',\n",
       " ' - 비엔날레지구',\n",
       " ' -연제·동운지구',\n",
       " '신용(운암)']"
      ]
     },
     "execution_count": 79,
     "metadata": {},
     "output_type": "execute_result"
    }
   ],
   "source": [
    "names"
   ]
  },
  {
   "cell_type": "code",
   "execution_count": 80,
   "id": "13e08ddc",
   "metadata": {
    "collapsed": true
   },
   "outputs": [
    {
     "data": {
      "text/plain": [
       "['북구',\n",
       " '북구',\n",
       " '북구',\n",
       " '북구',\n",
       " '북구',\n",
       " '북구',\n",
       " '북구',\n",
       " '광산구',\n",
       " '광산구',\n",
       " '광산구',\n",
       " '동구',\n",
       " '동구',\n",
       " '남구',\n",
       " '서구',\n",
       " '',\n",
       " '',\n",
       " '',\n",
       " '',\n",
       " '서구',\n",
       " '남구',\n",
       " '',\n",
       " '서구',\n",
       " '서구',\n",
       " '서구',\n",
       " '북구',\n",
       " '북구',\n",
       " '광산구',\n",
       " '광산구',\n",
       " '광산구',\n",
       " '광산구',\n",
       " '서구',\n",
       " '광산구',\n",
       " '북구',\n",
       " '서구',\n",
       " '북구',\n",
       " '광산구',\n",
       " '동구',\n",
       " '동구',\n",
       " '동구',\n",
       " '동구',\n",
       " '동구',\n",
       " '동구',\n",
       " '서구',\n",
       " '서구',\n",
       " '서구',\n",
       " '서구',\n",
       " '서구',\n",
       " '서구',\n",
       " '서구',\n",
       " '서구',\n",
       " '서구',\n",
       " '서구',\n",
       " '서구',\n",
       " '서구',\n",
       " '서구',\n",
       " '서구',\n",
       " '서구',\n",
       " '서구',\n",
       " '서구',\n",
       " '서구',\n",
       " '서구',\n",
       " '서구',\n",
       " '서구',\n",
       " '남구',\n",
       " '남구',\n",
       " '남구',\n",
       " '남구',\n",
       " '남구',\n",
       " '남구',\n",
       " '남구',\n",
       " '남구',\n",
       " '남구',\n",
       " '남구',\n",
       " '남구',\n",
       " '남구',\n",
       " '남구',\n",
       " '남구',\n",
       " '남구',\n",
       " '남구',\n",
       " '북구',\n",
       " '북구',\n",
       " '북구',\n",
       " '북구',\n",
       " '북구',\n",
       " '북구',\n",
       " '북구',\n",
       " '북구',\n",
       " '북구',\n",
       " '북구',\n",
       " '북구',\n",
       " '북구',\n",
       " '북구',\n",
       " '북구',\n",
       " '북구',\n",
       " '북구',\n",
       " '북구',\n",
       " '북구',\n",
       " '북구',\n",
       " '북구',\n",
       " '북구']"
      ]
     },
     "execution_count": 80,
     "metadata": {},
     "output_type": "execute_result"
    }
   ],
   "source": [
    "sigungus"
   ]
  },
  {
   "cell_type": "code",
   "execution_count": 74,
   "id": "b170fd0c",
   "metadata": {
    "collapsed": true
   },
   "outputs": [
    {
     "data": {
      "text/plain": [
       "['북구 운암동 산94',\n",
       " '북구 신용동 산36',\n",
       " '북구 동림동 산24',\n",
       " '북구 일곡동 산116',\n",
       " '북구 신용동 624-62',\n",
       " '북구 풍향동 602-10',\n",
       " '북구 중흥동 367-43',\n",
       " '광산구 하남동 499-3\\n(하남산단)',\n",
       " '광산구 월곡동 587\\n(하남지구)',\n",
       " '광산구 월곡동 539\\n(하남지구)',\n",
       " '북구 운암동 산94',\n",
       " '북구 신용동 산36',\n",
       " '북구 동림동 산24',\n",
       " '북구 일곡동 산116',\n",
       " '북구 신용동 624-62',\n",
       " '북구 풍향동 602-10',\n",
       " '북구 중흥동 367-43',\n",
       " '광산구 하남동 499-3\\n(하남산단)',\n",
       " '광산구 월곡동 587\\n(하남지구)',\n",
       " '광산구 월곡동 539\\n(하남지구)',\n",
       " '북구 운암동 산94',\n",
       " '북구 신용동 산36',\n",
       " '북구 동림동 산24',\n",
       " '북구 일곡동 산116',\n",
       " '북구 신용동 624-62',\n",
       " '북구 풍향동 602-10',\n",
       " '북구 중흥동 367-43',\n",
       " '광산구 하남동 499-3\\n(하남산단)',\n",
       " '광산구 월곡동 587\\n(하남지구)',\n",
       " '광산구 월곡동 539\\n(하남지구)']"
      ]
     },
     "execution_count": 74,
     "metadata": {},
     "output_type": "execute_result"
    }
   ],
   "source": [
    "adds"
   ]
  },
  {
   "cell_type": "code",
   "execution_count": 81,
   "id": "199fc519",
   "metadata": {},
   "outputs": [],
   "source": [
    "result = zip(names, sigungus, adds)"
   ]
  },
  {
   "cell_type": "code",
   "execution_count": 82,
   "id": "7d07cbd6",
   "metadata": {},
   "outputs": [],
   "source": [
    "result_list = list(result)"
   ]
  },
  {
   "cell_type": "code",
   "execution_count": 83,
   "id": "9ccdaebf",
   "metadata": {},
   "outputs": [],
   "source": [
    "gj_park=pd.DataFrame(result_list)"
   ]
  },
  {
   "cell_type": "code",
   "execution_count": 84,
   "id": "0be94601",
   "metadata": {
    "scrolled": true
   },
   "outputs": [
    {
     "data": {
      "text/html": [
       "<div>\n",
       "<style scoped>\n",
       "    .dataframe tbody tr th:only-of-type {\n",
       "        vertical-align: middle;\n",
       "    }\n",
       "\n",
       "    .dataframe tbody tr th {\n",
       "        vertical-align: top;\n",
       "    }\n",
       "\n",
       "    .dataframe thead th {\n",
       "        text-align: right;\n",
       "    }\n",
       "</style>\n",
       "<table border=\"1\" class=\"dataframe\">\n",
       "  <thead>\n",
       "    <tr style=\"text-align: right;\">\n",
       "      <th></th>\n",
       "      <th>0</th>\n",
       "      <th>1</th>\n",
       "      <th>2</th>\n",
       "    </tr>\n",
       "  </thead>\n",
       "  <tbody>\n",
       "    <tr>\n",
       "      <th>0</th>\n",
       "      <td>운암제3</td>\n",
       "      <td>북구</td>\n",
       "      <td>북구 운암동 산94</td>\n",
       "    </tr>\n",
       "    <tr>\n",
       "      <th>1</th>\n",
       "      <td>신용(용두초)</td>\n",
       "      <td>북구</td>\n",
       "      <td>북구 신용동 산36</td>\n",
       "    </tr>\n",
       "    <tr>\n",
       "      <th>2</th>\n",
       "      <td>운암산</td>\n",
       "      <td>북구</td>\n",
       "      <td>북구 동림동 산24</td>\n",
       "    </tr>\n",
       "    <tr>\n",
       "      <th>3</th>\n",
       "      <td>일곡</td>\n",
       "      <td>북구</td>\n",
       "      <td>북구 일곡동 산116</td>\n",
       "    </tr>\n",
       "    <tr>\n",
       "      <th>4</th>\n",
       "      <td>양산</td>\n",
       "      <td>북구</td>\n",
       "      <td>북구 신용동 624-62</td>\n",
       "    </tr>\n",
       "    <tr>\n",
       "      <th>...</th>\n",
       "      <td>...</td>\n",
       "      <td>...</td>\n",
       "      <td>...</td>\n",
       "    </tr>\n",
       "    <tr>\n",
       "      <th>95</th>\n",
       "      <td>- 박물관지구</td>\n",
       "      <td>북구</td>\n",
       "      <td></td>\n",
       "    </tr>\n",
       "    <tr>\n",
       "      <th>96</th>\n",
       "      <td>- 어린이대공원</td>\n",
       "      <td>북구</td>\n",
       "      <td></td>\n",
       "    </tr>\n",
       "    <tr>\n",
       "      <th>97</th>\n",
       "      <td>- 비엔날레지구</td>\n",
       "      <td>북구</td>\n",
       "      <td></td>\n",
       "    </tr>\n",
       "    <tr>\n",
       "      <th>98</th>\n",
       "      <td>-연제·동운지구</td>\n",
       "      <td>북구</td>\n",
       "      <td></td>\n",
       "    </tr>\n",
       "    <tr>\n",
       "      <th>99</th>\n",
       "      <td>신용(운암)</td>\n",
       "      <td>북구</td>\n",
       "      <td>북구 신안동 산2-3</td>\n",
       "    </tr>\n",
       "  </tbody>\n",
       "</table>\n",
       "<p>100 rows × 3 columns</p>\n",
       "</div>"
      ],
      "text/plain": [
       "            0   1              2\n",
       "0        운암제3  북구     북구 운암동 산94\n",
       "1     신용(용두초)  북구     북구 신용동 산36\n",
       "2         운암산  북구     북구 동림동 산24\n",
       "3          일곡  북구    북구 일곡동 산116\n",
       "4          양산  북구  북구 신용동 624-62\n",
       "..        ...  ..            ...\n",
       "95    - 박물관지구  북구               \n",
       "96   - 어린이대공원  북구               \n",
       "97   - 비엔날레지구  북구               \n",
       "98   -연제·동운지구  북구               \n",
       "99     신용(운암)  북구    북구 신안동 산2-3\n",
       "\n",
       "[100 rows x 3 columns]"
      ]
     },
     "execution_count": 84,
     "metadata": {},
     "output_type": "execute_result"
    }
   ],
   "source": [
    "gj_park"
   ]
  },
  {
   "cell_type": "code",
   "execution_count": 94,
   "id": "63455ec9",
   "metadata": {},
   "outputs": [],
   "source": [
    "gj_park.to_csv('광주공원.csv', encoding='utf-8', index=False)"
   ]
  }
 ],
 "metadata": {
  "kernelspec": {
   "display_name": "Python 3 (ipykernel)",
   "language": "python",
   "name": "python3"
  },
  "language_info": {
   "codemirror_mode": {
    "name": "ipython",
    "version": 3
   },
   "file_extension": ".py",
   "mimetype": "text/x-python",
   "name": "python",
   "nbconvert_exporter": "python",
   "pygments_lexer": "ipython3",
   "version": "3.9.7"
  }
 },
 "nbformat": 4,
 "nbformat_minor": 5
}
