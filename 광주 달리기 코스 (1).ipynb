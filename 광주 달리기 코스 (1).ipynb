{
 "cells": [
  {
   "cell_type": "code",
   "execution_count": 9,
   "id": "2ba33433",
   "metadata": {},
   "outputs": [],
   "source": [
    "import requests\n",
    "from bs4 import BeautifulSoup as bs\n",
    "import pandas as pd\n",
    "from selenium import webdriver\n",
    "import time as tm"
   ]
  },
  {
   "cell_type": "code",
   "execution_count": 2,
   "id": "c855a6d1",
   "metadata": {},
   "outputs": [],
   "source": [
    "url = 'http://www.marathon.pe.kr/course/atl.cgi?ct=a3'"
   ]
  },
  {
   "cell_type": "code",
   "execution_count": 3,
   "id": "cf7e43a6",
   "metadata": {},
   "outputs": [
    {
     "name": "stderr",
     "output_type": "stream",
     "text": [
      "C:\\Users\\smhrd\\AppData\\Local\\Temp/ipykernel_4692/1307687985.py:1: DeprecationWarning: executable_path has been deprecated, please pass in a Service object\n",
      "  driver = webdriver.Chrome('chromedriver.exe')\n"
     ]
    }
   ],
   "source": [
    "driver = webdriver.Chrome('chromedriver.exe')\n",
    "driver.get(url)"
   ]
  },
  {
   "cell_type": "code",
   "execution_count": 4,
   "id": "783db5e8",
   "metadata": {},
   "outputs": [],
   "source": [
    "soup = bs(driver.page_source, 'html.parser')"
   ]
  },
  {
   "cell_type": "code",
   "execution_count": 5,
   "id": "74150cce",
   "metadata": {
    "scrolled": true
   },
   "outputs": [
    {
     "name": "stderr",
     "output_type": "stream",
     "text": [
      "C:\\Users\\smhrd\\AppData\\Local\\Temp/ipykernel_4692/2106925638.py:1: DeprecationWarning: find_elements_by_* commands are deprecated. Please use find_elements() instead\n",
      "  data  = driver.find_elements_by_css_selector('table.ads3tb1 > tbody > tr > td > table:nth-child(1) > tbody > tr')\n"
     ]
    }
   ],
   "source": [
    "data  = driver.find_elements_by_css_selector('table.ads3tb1 > tbody > tr > td > table:nth-child(1) > tbody > tr')"
   ]
  },
  {
   "cell_type": "code",
   "execution_count": 6,
   "id": "6667c1d6",
   "metadata": {},
   "outputs": [],
   "source": [
    "cose=[]\n",
    "location=[]\n",
    "length=[]"
   ]
  },
  {
   "cell_type": "code",
   "execution_count": 7,
   "id": "e68dcb37",
   "metadata": {},
   "outputs": [],
   "source": [
    "time=[]\n",
    "element=[]"
   ]
  },
  {
   "cell_type": "code",
   "execution_count": 12,
   "id": "f97ebc32",
   "metadata": {
    "collapsed": true
   },
   "outputs": [
    {
     "name": "stderr",
     "output_type": "stream",
     "text": [
      "C:\\Users\\smhrd\\AppData\\Local\\Temp/ipykernel_4692/1619618690.py:3: DeprecationWarning: find_elements_by_* commands are deprecated. Please use find_elements() instead\n",
      "  data  = driver.find_elements_by_css_selector('table.ads3tb1 > tbody > tr > td > table:nth-child(1) > tbody > tr')\n",
      "C:\\Users\\smhrd\\AppData\\Local\\Temp/ipykernel_4692/1619618690.py:7: DeprecationWarning: find_elements_by_* commands are deprecated. Please use find_elements() instead\n",
      "  aTag=driver.find_elements_by_xpath(f'//a[@href=\"atl.cgi?ct=a3&md=second&id={id_}\"]')\n",
      "C:\\Users\\smhrd\\AppData\\Local\\Temp/ipykernel_4692/1619618690.py:20: DeprecationWarning: find_element_by_* commands are deprecated. Please use find_element() instead\n",
      "  time.append(driver.find_element_by_css_selector('td.indtb2 > table.indtb2 > tbody > tr > td > font.smalltxtr > table > tbody > tr:nth-child(26) > td:nth-child(2)').text)\n",
      "C:\\Users\\smhrd\\AppData\\Local\\Temp/ipykernel_4692/1619618690.py:21: DeprecationWarning: find_element_by_* commands are deprecated. Please use find_element() instead\n",
      "  element.append(driver.find_element_by_css_selector('body > center > table > tbody > tr > td.indtb2 > table.indtb2 > tbody > tr > td > font.smalltxtr > table > tbody > tr:nth-child(20) > td:nth-child(2)').text)\n"
     ]
    }
   ],
   "source": [
    "cnt=1\n",
    "for i in range(1,len(data)):\n",
    "    data  = driver.find_elements_by_css_selector('table.ads3tb1 > tbody > tr > td > table:nth-child(1) > tbody > tr')\n",
    "    lst=data[cnt]    \n",
    "    id_=lst.find_element_by_class_name('ads3tb2:nth-child(2)').text\n",
    "    \n",
    "    aTag=driver.find_elements_by_xpath(f'//a[@href=\"atl.cgi?ct=a3&md=second&id={id_}\"]')\n",
    "    \n",
    "    adress1=lst.find_element_by_class_name('ads3tb2:nth-child(4)').text\n",
    "    adress2=lst.find_element_by_class_name('ads3tb2:nth-child(5)').text\n",
    "    adrs=adress1+' '+adress2\n",
    "    \n",
    "    cose.append(lst.find_element_by_class_name('ads3tb2:nth-child(3)').text)\n",
    "    location.append(adrs)\n",
    "    length.append(lst.find_element_by_class_name('ads3tb2:nth-child(6)').text)\n",
    "    \n",
    "    tm.sleep(1)\n",
    "    aTag[0].click()\n",
    "    tm.sleep(1)\n",
    "    time.append(driver.find_element_by_css_selector('td.indtb2 > table.indtb2 > tbody > tr > td > font.smalltxtr > table > tbody > tr:nth-child(26) > td:nth-child(2)').text)\n",
    "    element.append(driver.find_element_by_css_selector('body > center > table > tbody > tr > td.indtb2 > table.indtb2 > tbody > tr > td > font.smalltxtr > table > tbody > tr:nth-child(20) > td:nth-child(2)').text)\n",
    "    driver.back()  \n",
    "    tm.sleep(1)\n",
    "    \n",
    "    cnt+=1"
   ]
  },
  {
   "cell_type": "code",
   "execution_count": 32,
   "id": "487c47e6",
   "metadata": {
    "collapsed": true
   },
   "outputs": [
    {
     "data": {
      "text/plain": [
       "['첨단교통공원-장성군 진원면,장성인터체인지 왕복',\n",
       " '화순금호온천코스',\n",
       " '광주댐및 4수원지코스',\n",
       " '청정 병풍산 임로 달리기',\n",
       " '전북전주시 경기장-광주시청까지 울트라코스',\n",
       " '야간및새벽달리기코스',\n",
       " '5.18공원코스(무각사코스)',\n",
       " '화순온천코스(38Km)',\n",
       " '42.195 Km 화순순환코스',\n",
       " '청옥동코스',\n",
       " '제석산 마라톤코스',\n",
       " '상무지역 시민공원 코스',\n",
       " '염주동 체육관 주변코스',\n",
       " '한재골100Km 달리기코스',\n",
       " '광주천달리기코스',\n",
       " '무등산달리기코스',\n",
       " '화순 -운주사 왕복(45km course)']"
      ]
     },
     "execution_count": 32,
     "metadata": {},
     "output_type": "execute_result"
    }
   ],
   "source": [
    "cose"
   ]
  },
  {
   "cell_type": "code",
   "execution_count": 13,
   "id": "06a0105f",
   "metadata": {},
   "outputs": [],
   "source": [
    "result = zip(cose, location, length, time, element)"
   ]
  },
  {
   "cell_type": "code",
   "execution_count": 14,
   "id": "9baab06f",
   "metadata": {},
   "outputs": [],
   "source": [
    "result_list = list(result)"
   ]
  },
  {
   "cell_type": "code",
   "execution_count": 15,
   "id": "04120426",
   "metadata": {},
   "outputs": [],
   "source": [
    "running_list=pd.DataFrame(result_list)"
   ]
  },
  {
   "cell_type": "code",
   "execution_count": 16,
   "id": "0ce84737",
   "metadata": {},
   "outputs": [
    {
     "data": {
      "text/html": [
       "<div>\n",
       "<style scoped>\n",
       "    .dataframe tbody tr th:only-of-type {\n",
       "        vertical-align: middle;\n",
       "    }\n",
       "\n",
       "    .dataframe tbody tr th {\n",
       "        vertical-align: top;\n",
       "    }\n",
       "\n",
       "    .dataframe thead th {\n",
       "        text-align: right;\n",
       "    }\n",
       "</style>\n",
       "<table border=\"1\" class=\"dataframe\">\n",
       "  <thead>\n",
       "    <tr style=\"text-align: right;\">\n",
       "      <th></th>\n",
       "      <th>0</th>\n",
       "      <th>1</th>\n",
       "      <th>2</th>\n",
       "      <th>3</th>\n",
       "      <th>4</th>\n",
       "    </tr>\n",
       "  </thead>\n",
       "  <tbody>\n",
       "    <tr>\n",
       "      <th>0</th>\n",
       "      <td>첨단교통공원-장성군 진원면,장성인터체인지 왕복</td>\n",
       "      <td>광주광역시-전남장성군 진원면</td>\n",
       "      <td>32km</td>\n",
       "      <td>항시</td>\n",
       "      <td>아스팔트, 보도블럭, 시멘트.</td>\n",
       "    </tr>\n",
       "    <tr>\n",
       "      <th>1</th>\n",
       "      <td>첨단교통공원-장성군 진원면,장성인터체인지 왕복</td>\n",
       "      <td>광주광역시-전남장성군 진원면</td>\n",
       "      <td>32km</td>\n",
       "      <td>--</td>\n",
       "      <td>아스팔트.</td>\n",
       "    </tr>\n",
       "    <tr>\n",
       "      <th>2</th>\n",
       "      <td>첨단교통공원-장성군 진원면,장성인터체인지 왕복</td>\n",
       "      <td>광주광역시-전남장성군 진원면</td>\n",
       "      <td>32km</td>\n",
       "      <td>없음</td>\n",
       "      <td>아스팔트.</td>\n",
       "    </tr>\n",
       "    <tr>\n",
       "      <th>3</th>\n",
       "      <td>첨단교통공원-장성군 진원면,장성인터체인지 왕복</td>\n",
       "      <td>광주광역시-전남장성군 진원면</td>\n",
       "      <td>32km</td>\n",
       "      <td>제한 무</td>\n",
       "      <td>모래, 자갈.</td>\n",
       "    </tr>\n",
       "    <tr>\n",
       "      <th>4</th>\n",
       "      <td>화순금호온천코스</td>\n",
       "      <td>북구고서남면 청옥동</td>\n",
       "      <td>25km</td>\n",
       "      <td>없음</td>\n",
       "      <td>아스팔트.</td>\n",
       "    </tr>\n",
       "    <tr>\n",
       "      <th>5</th>\n",
       "      <td>광주댐및 4수원지코스</td>\n",
       "      <td>북구고서면동구 청옥동</td>\n",
       "      <td>23km</td>\n",
       "      <td>무한대</td>\n",
       "      <td>아스팔트.</td>\n",
       "    </tr>\n",
       "    <tr>\n",
       "      <th>6</th>\n",
       "      <td>청정 병풍산 임로 달리기</td>\n",
       "      <td>담양 한재 병풍산 입구</td>\n",
       "      <td>왕복 약 7km</td>\n",
       "      <td>--</td>\n",
       "      <td>아스팔트, 시멘트.</td>\n",
       "    </tr>\n",
       "    <tr>\n",
       "      <th>7</th>\n",
       "      <td>전북전주시 경기장-광주시청까지 울트라코스</td>\n",
       "      <td>전북및전남-광주 전주시.광주시</td>\n",
       "      <td>150km</td>\n",
       "      <td>없음</td>\n",
       "      <td>아스팔트.</td>\n",
       "    </tr>\n",
       "    <tr>\n",
       "      <th>8</th>\n",
       "      <td>야간및새벽달리기코스</td>\n",
       "      <td>동구및북구 동구 지산동</td>\n",
       "      <td>11km</td>\n",
       "      <td>제항없음</td>\n",
       "      <td>아스팔트.</td>\n",
       "    </tr>\n",
       "    <tr>\n",
       "      <th>9</th>\n",
       "      <td>5.18공원코스(무각사코스)</td>\n",
       "      <td>광주시 서구 상무지구</td>\n",
       "      <td>1.6km</td>\n",
       "      <td>24시간-자유임</td>\n",
       "      <td>아스팔트, 우레탄.</td>\n",
       "    </tr>\n",
       "    <tr>\n",
       "      <th>10</th>\n",
       "      <td>화순온천코스(38Km)</td>\n",
       "      <td>북구담양고서남면.화순이서면 화순온천</td>\n",
       "      <td>38km</td>\n",
       "      <td>24시간</td>\n",
       "      <td>흙길, 모래, 자갈.</td>\n",
       "    </tr>\n",
       "    <tr>\n",
       "      <th>11</th>\n",
       "      <td>42.195 Km 화순순환코스</td>\n",
       "      <td>동구.화순군.남구 동구및남구</td>\n",
       "      <td>42.195km</td>\n",
       "      <td>24시간</td>\n",
       "      <td>우레탄.</td>\n",
       "    </tr>\n",
       "    <tr>\n",
       "      <th>12</th>\n",
       "      <td>청옥동코스</td>\n",
       "      <td>북구-동구 예)청옥동</td>\n",
       "      <td>21km</td>\n",
       "      <td>24시간</td>\n",
       "      <td>아스팔트, 우레탄.</td>\n",
       "    </tr>\n",
       "    <tr>\n",
       "      <th>13</th>\n",
       "      <td>제석산 마라톤코스</td>\n",
       "      <td>남구청 봉선동</td>\n",
       "      <td>10km</td>\n",
       "      <td>24시간</td>\n",
       "      <td>아스팔트, 잔디.</td>\n",
       "    </tr>\n",
       "    <tr>\n",
       "      <th>14</th>\n",
       "      <td>상무지역 시민공원 코스</td>\n",
       "      <td>서구 상무대</td>\n",
       "      <td>무한대로</td>\n",
       "      <td>24시간</td>\n",
       "      <td>아스팔트.</td>\n",
       "    </tr>\n",
       "    <tr>\n",
       "      <th>15</th>\n",
       "      <td>염주동 체육관 주변코스</td>\n",
       "      <td>서구 염주동</td>\n",
       "      <td>7.2km</td>\n",
       "      <td>24시간가능</td>\n",
       "      <td>아스팔트.</td>\n",
       "    </tr>\n",
       "    <tr>\n",
       "      <th>16</th>\n",
       "      <td>한재골100Km 달리기코스</td>\n",
       "      <td>광산구및북구 오룡동</td>\n",
       "      <td>100km</td>\n",
       "      <td>--</td>\n",
       "      <td>아스팔트.</td>\n",
       "    </tr>\n",
       "  </tbody>\n",
       "</table>\n",
       "</div>"
      ],
      "text/plain": [
       "                            0                    1         2           3  \\\n",
       "0   첨단교통공원-장성군 진원면,장성인터체인지 왕복      광주광역시-전남장성군 진원면      32km        항시     \n",
       "1   첨단교통공원-장성군 진원면,장성인터체인지 왕복      광주광역시-전남장성군 진원면      32km        --     \n",
       "2   첨단교통공원-장성군 진원면,장성인터체인지 왕복      광주광역시-전남장성군 진원면      32km        없음     \n",
       "3   첨단교통공원-장성군 진원면,장성인터체인지 왕복      광주광역시-전남장성군 진원면      32km      제한 무     \n",
       "4                    화순금호온천코스           북구고서남면 청옥동      25km        없음     \n",
       "5                 광주댐및 4수원지코스          북구고서면동구 청옥동      23km       무한대     \n",
       "6               청정 병풍산 임로 달리기         담양 한재 병풍산 입구  왕복 약 7km        --     \n",
       "7      전북전주시 경기장-광주시청까지 울트라코스     전북및전남-광주 전주시.광주시     150km        없음     \n",
       "8                  야간및새벽달리기코스         동구및북구 동구 지산동      11km      제항없음     \n",
       "9             5.18공원코스(무각사코스)          광주시 서구 상무지구     1.6km  24시간-자유임     \n",
       "10               화순온천코스(38Km)  북구담양고서남면.화순이서면 화순온천      38km      24시간     \n",
       "11           42.195 Km 화순순환코스      동구.화순군.남구 동구및남구  42.195km      24시간     \n",
       "12                      청옥동코스          북구-동구 예)청옥동      21km      24시간     \n",
       "13                  제석산 마라톤코스              남구청 봉선동      10km      24시간     \n",
       "14               상무지역 시민공원 코스               서구 상무대      무한대로      24시간     \n",
       "15               염주동 체육관 주변코스               서구 염주동     7.2km    24시간가능     \n",
       "16             한재골100Km 달리기코스           광산구및북구 오룡동     100km        --     \n",
       "\n",
       "                     4  \n",
       "0   아스팔트, 보도블럭, 시멘트.    \n",
       "1              아스팔트.    \n",
       "2              아스팔트.    \n",
       "3            모래, 자갈.    \n",
       "4              아스팔트.    \n",
       "5              아스팔트.    \n",
       "6         아스팔트, 시멘트.    \n",
       "7              아스팔트.    \n",
       "8              아스팔트.    \n",
       "9         아스팔트, 우레탄.    \n",
       "10       흙길, 모래, 자갈.    \n",
       "11              우레탄.    \n",
       "12        아스팔트, 우레탄.    \n",
       "13         아스팔트, 잔디.    \n",
       "14             아스팔트.    \n",
       "15             아스팔트.    \n",
       "16             아스팔트.    "
      ]
     },
     "execution_count": 16,
     "metadata": {},
     "output_type": "execute_result"
    }
   ],
   "source": [
    "running_list"
   ]
  },
  {
   "cell_type": "code",
   "execution_count": null,
   "id": "6f4991d0",
   "metadata": {},
   "outputs": [],
   "source": []
  }
 ],
 "metadata": {
  "kernelspec": {
   "display_name": "Python 3 (ipykernel)",
   "language": "python",
   "name": "python3"
  },
  "language_info": {
   "codemirror_mode": {
    "name": "ipython",
    "version": 3
   },
   "file_extension": ".py",
   "mimetype": "text/x-python",
   "name": "python",
   "nbconvert_exporter": "python",
   "pygments_lexer": "ipython3",
   "version": "3.9.7"
  }
 },
 "nbformat": 4,
 "nbformat_minor": 5
}
