{
 "cells": [
  {
   "cell_type": "code",
   "execution_count": 5,
   "id": "df709659",
   "metadata": {},
   "outputs": [],
   "source": [
    "from selenium import webdriver\n",
    "from bs4 import BeautifulSoup as bs\n",
    "import pandas as pd\n",
    "from selenium.webdriver.common.keys import Keys\n",
    "from urllib.request import urlretrieve\n",
    "import requests"
   ]
  },
  {
   "cell_type": "code",
   "execution_count": 6,
   "id": "fa4a552d",
   "metadata": {},
   "outputs": [],
   "source": [
    "url=\"https://search.wemakeprice.com/search?searchType=DEFAULT&search_cate=top&keyword=%ED%99%88%ED%8A%B8&isRec=1&_service=5&_type=3&sort=sales&isPopularCategory=Y\""
   ]
  },
  {
   "cell_type": "code",
   "execution_count": 7,
   "id": "28d58451",
   "metadata": {
    "scrolled": true
   },
   "outputs": [
    {
     "name": "stderr",
     "output_type": "stream",
     "text": [
      "C:\\Users\\smhrd\\AppData\\Local\\Temp/ipykernel_13716/1469565289.py:1: DeprecationWarning: executable_path has been deprecated, please pass in a Service object\n",
      "  driver=webdriver.Chrome('chromedriver.exe')\n"
     ]
    }
   ],
   "source": [
    "driver=webdriver.Chrome('chromedriver.exe')\n",
    "driver.get(url)"
   ]
  },
  {
   "cell_type": "code",
   "execution_count": 8,
   "id": "3f457122",
   "metadata": {
    "scrolled": false
   },
   "outputs": [],
   "source": [
    "soup=bs(driver.page_source,'html.parser')"
   ]
  },
  {
   "cell_type": "code",
   "execution_count": 9,
   "id": "93a1b677",
   "metadata": {},
   "outputs": [
    {
     "name": "stderr",
     "output_type": "stream",
     "text": [
      "C:\\Users\\smhrd\\AppData\\Local\\Temp/ipykernel_13716/3756492268.py:1: DeprecationWarning: find_element_by_* commands are deprecated. Please use find_element() instead\n",
      "  lists=driver.find_element_by_class_name('tab_cont').find_elements_by_class_name('search_box_listdeal')\n",
      "C:\\Users\\smhrd\\anaconda3\\lib\\site-packages\\selenium\\webdriver\\remote\\webelement.py:464: UserWarning: find_elements_by_* commands are deprecated. Please use find_elements() instead\n",
      "  warnings.warn(\"find_elements_by_* commands are deprecated. Please use find_elements() instead\")\n"
     ]
    }
   ],
   "source": [
    "lists=driver.find_element_by_class_name('tab_cont').find_elements_by_class_name('search_box_listdeal')"
   ]
  },
  {
   "cell_type": "code",
   "execution_count": 10,
   "id": "74079f7c",
   "metadata": {},
   "outputs": [
    {
     "name": "stderr",
     "output_type": "stream",
     "text": [
      "C:\\Users\\smhrd\\AppData\\Local\\Temp/ipykernel_13716/858006841.py:1: DeprecationWarning: find_elements_by_* commands are deprecated. Please use find_elements() instead\n",
      "  bestlist = driver.find_elements_by_class_name('list_conts_wrap')\n"
     ]
    }
   ],
   "source": [
    "bestlist = driver.find_elements_by_class_name('list_conts_wrap')"
   ]
  },
  {
   "cell_type": "code",
   "execution_count": 11,
   "id": "6f6bd618",
   "metadata": {},
   "outputs": [],
   "source": [
    "exnames=[]\n",
    "exprices=[]\n",
    "exdelis=[]\n",
    "links=[]"
   ]
  },
  {
   "cell_type": "code",
   "execution_count": 12,
   "id": "ce0d8baf",
   "metadata": {},
   "outputs": [
    {
     "name": "stderr",
     "output_type": "stream",
     "text": [
      "C:\\Users\\smhrd\\anaconda3\\lib\\site-packages\\selenium\\webdriver\\remote\\webelement.py:502: UserWarning: find_elements_by_* commands are deprecated. Please use find_elements() instead\n",
      "  warnings.warn(\"find_elements_by_* commands are deprecated. Please use find_elements() instead\")\n"
     ]
    }
   ],
   "source": [
    "cnt=0\n",
    "for i in bestlist:\n",
    "    item=bestlist[cnt]\n",
    "    exnames.append(item.find_elements_by_css_selector('.info_text')[0].text)\n",
    "    exprices.append(item.find_elements_by_css_selector('em.num')[0].text)\n",
    "    exdelis.append(item.find_elements_by_css_selector('.price_deli_txt')[0].text)\n",
    "    cnt+=1"
   ]
  },
  {
   "cell_type": "code",
   "execution_count": 14,
   "id": "70d77522",
   "metadata": {
    "collapsed": true
   },
   "outputs": [
    {
     "data": {
      "text/plain": [
       "['고무나라 풀업밴드 그린 투톤 [파워 턱걸이 철봉 헬스 고무 근력 저항 튜빙 운동 라텍스 밴드 홈트레이닝 기구]',\n",
       " '요가링/마사지링/요가매트/필라테스/요가밴드/튜빙밴드/요가용품/종아리 마사지링',\n",
       " '고무나라 폼롤러 EPP EVA 필라테스 90cm 60cm 45cm 마사지 폼플러 홈트레이닝 운동 기구 요가매트 라텍스밴드',\n",
       " '고무나라 와이드 TPE 요가매트 10mm 넓고 안밀리는 필라테스 운동매트',\n",
       " '뮤트홈트제품 모음전 종아리 요가링 1+1 / 루프밴드 5종세트 / 마사지볼',\n",
       " '뮤트홈트제품 종아리 요가링 1+1 외 모음전',\n",
       " '고무나라 멀티튜빙밴드 풀세트 / 운동 헬스 근력 라텍스 풀업 용품 스트레칭 기구',\n",
       " '고무나라 멀티튜빙밴드 풀세트 (150LB) 전문가용 [라텍스 풀업 운동 헬스 근력 운동 고무밴드]',\n",
       " '고무나라 멀티 튜빙밴드 세트 (100LB) 헬스 근력 라텍스 운동 스트레칭 고무밴드',\n",
       " '멜킨스포츠 폼롤러 요가매트 요가용품 모음전',\n",
       " '(파우치 선착순증정) 뮤트홈트 종아리 요가링 젠링 하드 1+1 +무료배송 + 당일배송',\n",
       " '뮤트홈트 종아리 요가링 젠링 하드 1+1 +무료배송 + 당일배송',\n",
       " '케이필 덤벨 미용 아령 세트 0.5kg, 1kg, 1.5kg, 2kg, 3kg, 4kg, 5kg, 6kg',\n",
       " 'K-FEEL 홈트의 끝판왕 멀티푸쉬업바 칼라아령 모래주머니',\n",
       " '남자 홈트 근력 운동기구 헬스용품 모음',\n",
       " '[동화스포츠] 라텍스밴드/루프밴드/튜빙밴드 모음전',\n",
       " '멜킨 요가매트 NBR TPE 코르크 두꺼운 필라테스 홈트 6 8 10 20mm',\n",
       " '고무나라 라텍스밴드 루프밴드 튜빙 스트레칭 필라테스 헬스 요가 근력 고무 운동',\n",
       " '빼다 홈트레이닝 다이어트 헬스용품',\n",
       " '요가링 1+1 하드형 필라테스 젠링 스트레칭 종아리링 파스텔',\n",
       " '이고진 홈트 밸런스 운동용품 짐볼 도수볼 밸런스볼 진동운동기구 외',\n",
       " '프리미엄 폼롤러33cm/60cm/90cm',\n",
       " '에코 원형 에바 폼롤러 91cm',\n",
       " '멜킨 고중량 EPP EVA 원형 반원형 폼롤러 요가 필라테스 마사지 스트레칭 하드 90 60 45cm',\n",
       " '에코 전신 튜빙밴드',\n",
       " 'JJR 줄넘기 국가대표줄넘기 대한줄넘기총연맹 공식인증 아동줄넘기 성인줄넘기 스피드루프 마디줄넘기 구슬줄넘기',\n",
       " '에코 전신 튜빙밴드+링밴드 세트',\n",
       " '[헬스장 납품 업체] 엠보싱 고급 소재 폼롤러 EVA 마사지 롤러',\n",
       " '아리프 EPP 폼롤러/요가매트/짐볼/아령 홈트 모음전',\n",
       " '비핏 앱코치 훌라후프 외 BEST 홈트용품 50종 모음전 #집콕다이어트']"
      ]
     },
     "execution_count": 14,
     "metadata": {},
     "output_type": "execute_result"
    }
   ],
   "source": [
    "exnames"
   ]
  },
  {
   "cell_type": "code",
   "execution_count": 15,
   "id": "0b2b5127",
   "metadata": {},
   "outputs": [],
   "source": [
    "result = zip(exnames, exprices, exdelis)"
   ]
  },
  {
   "cell_type": "code",
   "execution_count": 16,
   "id": "951a6bbe",
   "metadata": {},
   "outputs": [
    {
     "name": "stdout",
     "output_type": "stream",
     "text": [
      "<class 'zip'>\n"
     ]
    }
   ],
   "source": [
    "print(type(result))"
   ]
  },
  {
   "cell_type": "code",
   "execution_count": 17,
   "id": "ad94b8b6",
   "metadata": {},
   "outputs": [],
   "source": [
    "result_list = list(result)"
   ]
  },
  {
   "cell_type": "code",
   "execution_count": 18,
   "id": "5cdd0701",
   "metadata": {},
   "outputs": [],
   "source": [
    "ex_list=pd.DataFrame(result_list)"
   ]
  },
  {
   "cell_type": "code",
   "execution_count": 19,
   "id": "57c81de0",
   "metadata": {
    "collapsed": true
   },
   "outputs": [
    {
     "data": {
      "text/html": [
       "<div>\n",
       "<style scoped>\n",
       "    .dataframe tbody tr th:only-of-type {\n",
       "        vertical-align: middle;\n",
       "    }\n",
       "\n",
       "    .dataframe tbody tr th {\n",
       "        vertical-align: top;\n",
       "    }\n",
       "\n",
       "    .dataframe thead th {\n",
       "        text-align: right;\n",
       "    }\n",
       "</style>\n",
       "<table border=\"1\" class=\"dataframe\">\n",
       "  <thead>\n",
       "    <tr style=\"text-align: right;\">\n",
       "      <th></th>\n",
       "      <th>0</th>\n",
       "      <th>1</th>\n",
       "      <th>2</th>\n",
       "    </tr>\n",
       "  </thead>\n",
       "  <tbody>\n",
       "    <tr>\n",
       "      <th>0</th>\n",
       "      <td>고무나라 풀업밴드 그린 투톤 [파워 턱걸이 철봉 헬스 고무 근력 저항 튜빙 운동 라...</td>\n",
       "      <td>10,600</td>\n",
       "      <td>배송비 3,000원</td>\n",
       "    </tr>\n",
       "    <tr>\n",
       "      <th>1</th>\n",
       "      <td>요가링/마사지링/요가매트/필라테스/요가밴드/튜빙밴드/요가용품/종아리 마사지링</td>\n",
       "      <td>6,900</td>\n",
       "      <td>배송비 3,000원</td>\n",
       "    </tr>\n",
       "    <tr>\n",
       "      <th>2</th>\n",
       "      <td>고무나라 폼롤러 EPP EVA 필라테스 90cm 60cm 45cm 마사지 폼플러 홈...</td>\n",
       "      <td>13,500</td>\n",
       "      <td>배송비 3,000원</td>\n",
       "    </tr>\n",
       "    <tr>\n",
       "      <th>3</th>\n",
       "      <td>고무나라 와이드 TPE 요가매트 10mm 넓고 안밀리는 필라테스 운동매트</td>\n",
       "      <td>27,600</td>\n",
       "      <td>배송비 3,000원</td>\n",
       "    </tr>\n",
       "    <tr>\n",
       "      <th>4</th>\n",
       "      <td>뮤트홈트제품 모음전 종아리 요가링 1+1 / 루프밴드 5종세트 / 마사지볼</td>\n",
       "      <td>1,800</td>\n",
       "      <td>배송비 2,500원\\n(10,000원 이상 무료배송)</td>\n",
       "    </tr>\n",
       "    <tr>\n",
       "      <th>5</th>\n",
       "      <td>뮤트홈트제품 종아리 요가링 1+1 외 모음전</td>\n",
       "      <td>1,800</td>\n",
       "      <td>배송비 2,500원\\n(10,000원 이상 무료배송)</td>\n",
       "    </tr>\n",
       "    <tr>\n",
       "      <th>6</th>\n",
       "      <td>고무나라 멀티튜빙밴드 풀세트 / 운동 헬스 근력 라텍스 풀업 용품 스트레칭 기구</td>\n",
       "      <td>10,900</td>\n",
       "      <td>배송비 3,000원</td>\n",
       "    </tr>\n",
       "    <tr>\n",
       "      <th>7</th>\n",
       "      <td>고무나라 멀티튜빙밴드 풀세트 (150LB) 전문가용 [라텍스 풀업 운동 헬스 근력 ...</td>\n",
       "      <td>30,900</td>\n",
       "      <td>배송비 3,000원</td>\n",
       "    </tr>\n",
       "    <tr>\n",
       "      <th>8</th>\n",
       "      <td>고무나라 멀티 튜빙밴드 세트 (100LB) 헬스 근력 라텍스 운동 스트레칭 고무밴드</td>\n",
       "      <td>21,900</td>\n",
       "      <td>배송비 3,000원</td>\n",
       "    </tr>\n",
       "    <tr>\n",
       "      <th>9</th>\n",
       "      <td>멜킨스포츠 폼롤러 요가매트 요가용품 모음전</td>\n",
       "      <td>4,300</td>\n",
       "      <td>배송비 3,000원</td>\n",
       "    </tr>\n",
       "    <tr>\n",
       "      <th>10</th>\n",
       "      <td>(파우치 선착순증정) 뮤트홈트 종아리 요가링 젠링 하드 1+1 +무료배송 + 당일배송</td>\n",
       "      <td>6,900</td>\n",
       "      <td>배송비 무료</td>\n",
       "    </tr>\n",
       "    <tr>\n",
       "      <th>11</th>\n",
       "      <td>뮤트홈트 종아리 요가링 젠링 하드 1+1 +무료배송 + 당일배송</td>\n",
       "      <td>6,900</td>\n",
       "      <td>배송비 무료</td>\n",
       "    </tr>\n",
       "    <tr>\n",
       "      <th>12</th>\n",
       "      <td>케이필 덤벨 미용 아령 세트 0.5kg, 1kg, 1.5kg, 2kg, 3kg, 4...</td>\n",
       "      <td>2,800</td>\n",
       "      <td>배송비 2,500원\\n(50,000원 이상 무료배송)</td>\n",
       "    </tr>\n",
       "    <tr>\n",
       "      <th>13</th>\n",
       "      <td>K-FEEL 홈트의 끝판왕 멀티푸쉬업바 칼라아령 모래주머니</td>\n",
       "      <td>4,500</td>\n",
       "      <td>배송비 2,500원\\n(50,000원 이상 무료배송)</td>\n",
       "    </tr>\n",
       "    <tr>\n",
       "      <th>14</th>\n",
       "      <td>남자 홈트 근력 운동기구 헬스용품 모음</td>\n",
       "      <td>4,900</td>\n",
       "      <td>배송비 무료</td>\n",
       "    </tr>\n",
       "    <tr>\n",
       "      <th>15</th>\n",
       "      <td>[동화스포츠] 라텍스밴드/루프밴드/튜빙밴드 모음전</td>\n",
       "      <td>3,600</td>\n",
       "      <td>배송비 2,000원\\n(20,000원 이상 무료배송)</td>\n",
       "    </tr>\n",
       "    <tr>\n",
       "      <th>16</th>\n",
       "      <td>멜킨 요가매트 NBR TPE 코르크 두꺼운 필라테스 홈트 6 8 10 20mm</td>\n",
       "      <td>25,000</td>\n",
       "      <td>배송비 3,000원</td>\n",
       "    </tr>\n",
       "    <tr>\n",
       "      <th>17</th>\n",
       "      <td>고무나라 라텍스밴드 루프밴드 튜빙 스트레칭 필라테스 헬스 요가 근력 고무 운동</td>\n",
       "      <td>2,300</td>\n",
       "      <td>배송비 3,000원</td>\n",
       "    </tr>\n",
       "    <tr>\n",
       "      <th>18</th>\n",
       "      <td>빼다 홈트레이닝 다이어트 헬스용품</td>\n",
       "      <td>6,900</td>\n",
       "      <td>배송비 무료</td>\n",
       "    </tr>\n",
       "    <tr>\n",
       "      <th>19</th>\n",
       "      <td>요가링 1+1 하드형 필라테스 젠링 스트레칭 종아리링 파스텔</td>\n",
       "      <td>2,300</td>\n",
       "      <td>배송비 2,500원</td>\n",
       "    </tr>\n",
       "    <tr>\n",
       "      <th>20</th>\n",
       "      <td>이고진 홈트 밸런스 운동용품 짐볼 도수볼 밸런스볼 진동운동기구 외</td>\n",
       "      <td>19,900</td>\n",
       "      <td>배송비 무료</td>\n",
       "    </tr>\n",
       "    <tr>\n",
       "      <th>21</th>\n",
       "      <td>프리미엄 폼롤러33cm/60cm/90cm</td>\n",
       "      <td>14,900</td>\n",
       "      <td>배송비 3,000원</td>\n",
       "    </tr>\n",
       "    <tr>\n",
       "      <th>22</th>\n",
       "      <td>에코 원형 에바 폼롤러 91cm</td>\n",
       "      <td>19,900</td>\n",
       "      <td>배송비 무료</td>\n",
       "    </tr>\n",
       "    <tr>\n",
       "      <th>23</th>\n",
       "      <td>멜킨 고중량 EPP EVA 원형 반원형 폼롤러 요가 필라테스 마사지 스트레칭 하드 ...</td>\n",
       "      <td>24,100</td>\n",
       "      <td>배송비 3,000원</td>\n",
       "    </tr>\n",
       "    <tr>\n",
       "      <th>24</th>\n",
       "      <td>에코 전신 튜빙밴드</td>\n",
       "      <td>6,900</td>\n",
       "      <td>배송비 무료</td>\n",
       "    </tr>\n",
       "    <tr>\n",
       "      <th>25</th>\n",
       "      <td>JJR 줄넘기 국가대표줄넘기 대한줄넘기총연맹 공식인증 아동줄넘기 성인줄넘기 스피드루...</td>\n",
       "      <td>3,280</td>\n",
       "      <td>배송비 5,000원</td>\n",
       "    </tr>\n",
       "    <tr>\n",
       "      <th>26</th>\n",
       "      <td>에코 전신 튜빙밴드+링밴드 세트</td>\n",
       "      <td>7,900</td>\n",
       "      <td>배송비 무료</td>\n",
       "    </tr>\n",
       "    <tr>\n",
       "      <th>27</th>\n",
       "      <td>[헬스장 납품 업체] 엠보싱 고급 소재 폼롤러 EVA 마사지 롤러</td>\n",
       "      <td>10,360</td>\n",
       "      <td>배송비 무료</td>\n",
       "    </tr>\n",
       "    <tr>\n",
       "      <th>28</th>\n",
       "      <td>아리프 EPP 폼롤러/요가매트/짐볼/아령 홈트 모음전</td>\n",
       "      <td>3,800</td>\n",
       "      <td>배송비 3,000원</td>\n",
       "    </tr>\n",
       "    <tr>\n",
       "      <th>29</th>\n",
       "      <td>비핏 앱코치 훌라후프 외 BEST 홈트용품 50종 모음전 #집콕다이어트</td>\n",
       "      <td>20,500</td>\n",
       "      <td>배송비 3,000원\\n(50,000원 이상 무료배송)</td>\n",
       "    </tr>\n",
       "  </tbody>\n",
       "</table>\n",
       "</div>"
      ],
      "text/plain": [
       "                                                    0       1  \\\n",
       "0   고무나라 풀업밴드 그린 투톤 [파워 턱걸이 철봉 헬스 고무 근력 저항 튜빙 운동 라...  10,600   \n",
       "1          요가링/마사지링/요가매트/필라테스/요가밴드/튜빙밴드/요가용품/종아리 마사지링   6,900   \n",
       "2   고무나라 폼롤러 EPP EVA 필라테스 90cm 60cm 45cm 마사지 폼플러 홈...  13,500   \n",
       "3            고무나라 와이드 TPE 요가매트 10mm 넓고 안밀리는 필라테스 운동매트  27,600   \n",
       "4           뮤트홈트제품 모음전 종아리 요가링 1+1 / 루프밴드 5종세트 / 마사지볼   1,800   \n",
       "5                            뮤트홈트제품 종아리 요가링 1+1 외 모음전   1,800   \n",
       "6        고무나라 멀티튜빙밴드 풀세트 / 운동 헬스 근력 라텍스 풀업 용품 스트레칭 기구  10,900   \n",
       "7   고무나라 멀티튜빙밴드 풀세트 (150LB) 전문가용 [라텍스 풀업 운동 헬스 근력 ...  30,900   \n",
       "8      고무나라 멀티 튜빙밴드 세트 (100LB) 헬스 근력 라텍스 운동 스트레칭 고무밴드  21,900   \n",
       "9                             멜킨스포츠 폼롤러 요가매트 요가용품 모음전   4,300   \n",
       "10    (파우치 선착순증정) 뮤트홈트 종아리 요가링 젠링 하드 1+1 +무료배송 + 당일배송   6,900   \n",
       "11                뮤트홈트 종아리 요가링 젠링 하드 1+1 +무료배송 + 당일배송   6,900   \n",
       "12  케이필 덤벨 미용 아령 세트 0.5kg, 1kg, 1.5kg, 2kg, 3kg, 4...   2,800   \n",
       "13                   K-FEEL 홈트의 끝판왕 멀티푸쉬업바 칼라아령 모래주머니   4,500   \n",
       "14                              남자 홈트 근력 운동기구 헬스용품 모음   4,900   \n",
       "15                        [동화스포츠] 라텍스밴드/루프밴드/튜빙밴드 모음전   3,600   \n",
       "16        멜킨 요가매트 NBR TPE 코르크 두꺼운 필라테스 홈트 6 8 10 20mm  25,000   \n",
       "17        고무나라 라텍스밴드 루프밴드 튜빙 스트레칭 필라테스 헬스 요가 근력 고무 운동   2,300   \n",
       "18                                 빼다 홈트레이닝 다이어트 헬스용품   6,900   \n",
       "19                  요가링 1+1 하드형 필라테스 젠링 스트레칭 종아리링 파스텔   2,300   \n",
       "20               이고진 홈트 밸런스 운동용품 짐볼 도수볼 밸런스볼 진동운동기구 외  19,900   \n",
       "21                             프리미엄 폼롤러33cm/60cm/90cm  14,900   \n",
       "22                                  에코 원형 에바 폼롤러 91cm  19,900   \n",
       "23  멜킨 고중량 EPP EVA 원형 반원형 폼롤러 요가 필라테스 마사지 스트레칭 하드 ...  24,100   \n",
       "24                                         에코 전신 튜빙밴드   6,900   \n",
       "25  JJR 줄넘기 국가대표줄넘기 대한줄넘기총연맹 공식인증 아동줄넘기 성인줄넘기 스피드루...   3,280   \n",
       "26                                  에코 전신 튜빙밴드+링밴드 세트   7,900   \n",
       "27               [헬스장 납품 업체] 엠보싱 고급 소재 폼롤러 EVA 마사지 롤러  10,360   \n",
       "28                      아리프 EPP 폼롤러/요가매트/짐볼/아령 홈트 모음전   3,800   \n",
       "29            비핏 앱코치 훌라후프 외 BEST 홈트용품 50종 모음전 #집콕다이어트  20,500   \n",
       "\n",
       "                                2  \n",
       "0                      배송비 3,000원  \n",
       "1                      배송비 3,000원  \n",
       "2                      배송비 3,000원  \n",
       "3                      배송비 3,000원  \n",
       "4   배송비 2,500원\\n(10,000원 이상 무료배송)  \n",
       "5   배송비 2,500원\\n(10,000원 이상 무료배송)  \n",
       "6                      배송비 3,000원  \n",
       "7                      배송비 3,000원  \n",
       "8                      배송비 3,000원  \n",
       "9                      배송비 3,000원  \n",
       "10                         배송비 무료  \n",
       "11                         배송비 무료  \n",
       "12  배송비 2,500원\\n(50,000원 이상 무료배송)  \n",
       "13  배송비 2,500원\\n(50,000원 이상 무료배송)  \n",
       "14                         배송비 무료  \n",
       "15  배송비 2,000원\\n(20,000원 이상 무료배송)  \n",
       "16                     배송비 3,000원  \n",
       "17                     배송비 3,000원  \n",
       "18                         배송비 무료  \n",
       "19                     배송비 2,500원  \n",
       "20                         배송비 무료  \n",
       "21                     배송비 3,000원  \n",
       "22                         배송비 무료  \n",
       "23                     배송비 3,000원  \n",
       "24                         배송비 무료  \n",
       "25                     배송비 5,000원  \n",
       "26                         배송비 무료  \n",
       "27                         배송비 무료  \n",
       "28                     배송비 3,000원  \n",
       "29  배송비 3,000원\\n(50,000원 이상 무료배송)  "
      ]
     },
     "execution_count": 19,
     "metadata": {},
     "output_type": "execute_result"
    }
   ],
   "source": [
    "ex_list"
   ]
  },
  {
   "cell_type": "code",
   "execution_count": 20,
   "id": "65bd0379",
   "metadata": {
    "collapsed": true
   },
   "outputs": [
    {
     "name": "stdout",
     "output_type": "stream",
     "text": [
      "이름 :  고무나라 와이드 TPE 요가매트 10mm 넓고 안밀리는 필라테스 운동매트\n",
      "가격 :  27,600 원\n",
      "배송비 :  배송비 3,000원\n"
     ]
    },
    {
     "name": "stderr",
     "output_type": "stream",
     "text": [
      "C:\\Users\\smhrd\\anaconda3\\lib\\site-packages\\selenium\\webdriver\\remote\\webelement.py:502: UserWarning: find_elements_by_* commands are deprecated. Please use find_elements() instead\n",
      "  warnings.warn(\"find_elements_by_* commands are deprecated. Please use find_elements() instead\")\n"
     ]
    }
   ],
   "source": [
    "item=bestlist[3]\n",
    "print(\"이름 : \", item.find_elements_by_css_selector('.info_text')[0].text)\n",
    "print(\"가격 : \", item.find_elements_by_css_selector('em.num')[0].text,\"원\")\n",
    "print(\"배송비 : \", item.find_elements_by_css_selector('.price_deli_txt')[0].text)"
   ]
  },
  {
   "cell_type": "code",
   "execution_count": 25,
   "id": "52707bfa",
   "metadata": {
    "scrolled": true
   },
   "outputs": [
    {
     "name": "stderr",
     "output_type": "stream",
     "text": [
      "C:\\Users\\smhrd\\anaconda3\\lib\\site-packages\\selenium\\webdriver\\remote\\webelement.py:464: UserWarning: find_elements_by_* commands are deprecated. Please use find_elements() instead\n",
      "  warnings.warn(\"find_elements_by_* commands are deprecated. Please use find_elements() instead\")\n"
     ]
    }
   ],
   "source": [
    "a=item.find_elements_by_class_name('div.list_thum > img')"
   ]
  },
  {
   "cell_type": "code",
   "execution_count": 34,
   "id": "e546b441",
   "metadata": {
    "scrolled": true
   },
   "outputs": [
    {
     "data": {
      "text/plain": [
       "30"
      ]
     },
     "execution_count": 34,
     "metadata": {},
     "output_type": "execute_result"
    }
   ],
   "source": [
    "images=soup.select('#_contents > div > div.search_wrap > div:nth-child(1) > div.search_box_listwrap.tab_cont > div > div > a > div.list_thum > img')\n",
    "len(images)"
   ]
  },
  {
   "cell_type": "code",
   "execution_count": 35,
   "id": "30f12b0e",
   "metadata": {
    "scrolled": true
   },
   "outputs": [
    {
     "data": {
      "text/plain": [
       "[<img alt=\"고무나라 풀업밴드 그린 투톤 [파워 턱걸이 철봉 헬스 고무 근력 저항 튜빙 운동 라텍스 밴드 홈트레이닝 기구]\" class=\"motion-fade in loaded\" data-role=\"image\" height=\"140\" src=\"https://view01.wemep.co.kr/wmp-deal/4/869/603148694/603148694_small.jpg?1638935175\" width=\"140\"/>,\n",
       " <img alt=\"요가링/마사지링/요가매트/필라테스/요가밴드/튜빙밴드/요가용품/종아리 마사지링\" class=\"motion-fade in loaded\" data-role=\"image\" height=\"140\" src=\"https://view01.wemep.co.kr/wmp-deal/1/226/600122261/600122261_small.jpg?1638934550\" width=\"140\"/>,\n",
       " <img alt=\"고무나라 폼롤러 EPP EVA 필라테스 90cm 60cm 45cm 마사지 폼플러 홈트레이닝 운동 기구 요가매트 라텍스밴드\" class=\"motion-fade in loaded\" data-role=\"image\" height=\"140\" src=\"https://view01.wemep.co.kr/wmp-deal/4/642/600106424/600106424_small.jpg?1644385622\" width=\"140\"/>,\n",
       " <img alt=\"고무나라 와이드 TPE 요가매트 10mm 넓고 안밀리는 필라테스 운동매트\" class=\"motion-fade in loaded\" data-role=\"image\" height=\"140\" src=\"https://view01.wemep.co.kr/wmp-deal/8/740/618467408/618467408_small.jpg?1638940098\" width=\"140\"/>,\n",
       " <img alt=\"뮤트홈트제품 모음전 종아리 요가링 1+1 / 루프밴드 5종세트 / 마사지볼 \" class=\"motion-fade in loaded\" data-role=\"image\" height=\"140\" src=\"https://view01.wemep.co.kr/wmp-deal/1/222/603262221/603262221_small.jpg?1638935207\" width=\"140\"/>,\n",
       " <img alt=\"뮤트홈트제품 종아리 요가링 1+1 외 모음전\" class=\"motion-fade in loaded\" data-role=\"image\" height=\"140\" src=\"https://view01.wemep.co.kr/wmp-deal/8/011/605350118/605350118_small.jpg?1638935887\" width=\"140\"/>,\n",
       " <img alt=\"고무나라 멀티튜빙밴드 풀세트 / 운동 헬스 근력 라텍스 풀업 용품 스트레칭 기구\" class=\"motion-fade in loaded\" data-role=\"image\" height=\"140\" src=\"https://view01.wemep.co.kr/wmp-deal/9/259/600122599/600122599_small.jpg?1638934550\" width=\"140\"/>,\n",
       " <img alt=\"고무나라 멀티튜빙밴드 풀세트 (150LB) 전문가용 [라텍스 풀업 운동 헬스 근력 운동 고무밴드]\" class=\"motion-fade\" data-lazy-src=\"https://view01.wemep.co.kr/wmp-deal/1/841/600118411/600118411_small.jpg?1638934550\" data-role=\"image\" height=\"140\" width=\"140\"/>,\n",
       " <img alt=\"고무나라 멀티 튜빙밴드 세트 (100LB) 헬스 근력 라텍스 운동 스트레칭 고무밴드\" class=\"motion-fade\" data-lazy-src=\"https://view01.wemep.co.kr/wmp-deal/7/172/602661727/602661727_small.jpg?1638935048\" data-role=\"image\" height=\"140\" width=\"140\"/>,\n",
       " <img alt=\"멜킨스포츠 폼롤러 요가매트 요가용품 모음전\" class=\"motion-fade\" data-lazy-src=\"https://view01.wemep.co.kr/wmp-deal/5/167/603781675/603781675_small.jpg?1638935399\" data-role=\"image\" height=\"140\" width=\"140\"/>,\n",
       " <img alt=\"(파우치 선착순증정) 뮤트홈트 종아리 요가링 젠링 하드 1+1 +무료배송 + 당일배송\" class=\"motion-fade\" data-lazy-src=\"https://view01.wemep.co.kr/wmp-deal/9/463/603184639/603184639_small.jpg?1588551619\" data-role=\"image\" height=\"140\" width=\"140\"/>,\n",
       " <img alt=\"뮤트홈트 종아리 요가링 젠링 하드 1+1 +무료배송 + 당일배송\" class=\"motion-fade\" data-lazy-src=\"https://view01.wemep.co.kr/wmp-deal/6/713/603177136/603177136_small.jpg?1596766161\" data-role=\"image\" height=\"140\" width=\"140\"/>,\n",
       " <img alt=\"케이필 덤벨 미용 아령 세트 0.5kg, 1kg, 1.5kg, 2kg, 3kg, 4kg, 5kg, 6kg\" class=\"motion-fade\" data-lazy-src=\"https://view01.wemep.co.kr/wmp-deal/5/356/602953565/602953565_small.jpg?1638935101\" data-role=\"image\" height=\"140\" width=\"140\"/>,\n",
       " <img alt=\"K-FEEL 홈트의 끝판왕 멀티푸쉬업바 칼라아령 모래주머니\" class=\"motion-fade\" data-lazy-src=\"https://view01.wemep.co.kr/wmp-deal/0/976/603159760/603159760_small.jpg?1638935175\" data-role=\"image\" height=\"140\" width=\"140\"/>,\n",
       " <img alt=\"남자 홈트 근력 운동기구 헬스용품 모음\" class=\"motion-fade\" data-lazy-src=\"https://view01.wemep.co.kr/wmp-deal/9/790/627027909/627027909_small.jpg?1646377578\" data-role=\"image\" height=\"140\" width=\"140\"/>,\n",
       " <img alt=\"[동화스포츠] 라텍스밴드/루프밴드/튜빙밴드 모음전\" class=\"motion-fade\" data-lazy-src=\"https://view01.wemep.co.kr/wmp-deal/4/120/600101204/600101204_small.jpg?1638934539\" data-role=\"image\" height=\"140\" width=\"140\"/>,\n",
       " <img alt=\"멜킨 요가매트 NBR TPE 코르크 두꺼운 필라테스 홈트 6 8 10 20mm\" class=\"motion-fade\" data-lazy-src=\"https://view01.wemep.co.kr/wmp-deal/7/510/611315107/611315107_small.jpg?1638937712\" data-role=\"image\" height=\"140\" width=\"140\"/>,\n",
       " <img alt=\"고무나라 라텍스밴드 루프밴드 튜빙 스트레칭 필라테스 헬스 요가 근력 고무 운동\" class=\"motion-fade\" data-lazy-src=\"https://view01.wemep.co.kr/wmp-deal/7/014/603100147/603100147_small.jpg?1638935154\" data-role=\"image\" height=\"140\" width=\"140\"/>,\n",
       " <img alt=\"빼다 홈트레이닝 다이어트 헬스용품\" class=\"motion-fade\" data-lazy-src=\"https://view01.wemep.co.kr/wmp-deal/5/265/617352655/617352655_small.jpg?1645781415\" data-role=\"image\" height=\"140\" width=\"140\"/>,\n",
       " <img alt=\"요가링 1+1 하드형 필라테스 젠링 스트레칭 종아리링 파스텔\" class=\"motion-fade\" data-lazy-src=\"https://view01.wemep.co.kr/wmp-deal/3/860/602588603/602588603_small.jpg?1638935016\" data-role=\"image\" height=\"140\" width=\"140\"/>,\n",
       " <img alt=\"이고진 홈트 밸런스 운동용품 짐볼 도수볼 밸런스볼 진동운동기구 외\" class=\"motion-fade\" data-lazy-src=\"https://view01.wemep.co.kr/wmp-deal/4/037/603310374/603310374_small.jpg?1638935229\" data-role=\"image\" height=\"140\" width=\"140\"/>,\n",
       " <img alt=\"프리미엄 폼롤러33cm/60cm/90cm\" class=\"motion-fade\" data-lazy-src=\"https://view01.wemep.co.kr/wmp-deal/7/842/600908427/600908427_small.jpg?1638934709\" data-role=\"image\" height=\"140\" width=\"140\"/>,\n",
       " <img alt=\"에코 원형 에바 폼롤러 91cm\" class=\"motion-fade\" data-lazy-src=\"https://view01.wemep.co.kr/wmp-product/7/063/349750637/349750637_small.jpg?1643012070\" data-role=\"image\" height=\"140\" width=\"140\"/>,\n",
       " <img alt=\"멜킨 고중량 EPP EVA 원형 반원형 폼롤러 요가 필라테스 마사지 스트레칭 하드 90 60 45cm\" class=\"motion-fade\" data-lazy-src=\"https://view01.wemep.co.kr/wmp-deal/8/511/611315118/611315118_small.jpg?1638937712\" data-role=\"image\" height=\"140\" width=\"140\"/>,\n",
       " <img alt=\"에코 전신 튜빙밴드\" class=\"motion-fade\" data-lazy-src=\"https://view01.wemep.co.kr/wmp-product/2/886/262798862/262798862_small.jpg?1643012072\" data-role=\"image\" height=\"140\" width=\"140\"/>,\n",
       " <img alt=\"JJR 줄넘기 국가대표줄넘기 대한줄넘기총연맹 공식인증 아동줄넘기 성인줄넘기 스피드루프 마디줄넘기 구슬줄넘기\" class=\"motion-fade\" data-lazy-src=\"https://view01.wemep.co.kr/wmp-deal/7/426/605084267/605084267_small.jpg?1638935792\" data-role=\"image\" height=\"140\" width=\"140\"/>,\n",
       " <img alt=\"에코 전신 튜빙밴드+링밴드 세트\" class=\"motion-fade\" data-lazy-src=\"https://view01.wemep.co.kr/wmp-product/5/054/1264420545/1264420545_small.jpg?1643012067\" data-role=\"image\" height=\"140\" width=\"140\"/>,\n",
       " <img alt=\"[헬스장 납품 업체] 엠보싱 고급 소재 폼롤러 EVA 마사지 롤러\" class=\"motion-fade\" data-lazy-src=\"https://view01.wemep.co.kr/wmp-deal/4/081/606280814/606280814_small.jpg?1638936173\" data-role=\"image\" height=\"140\" width=\"140\"/>,\n",
       " <img alt=\"아리프 EPP 폼롤러/요가매트/짐볼/아령 홈트 모음전\" class=\"motion-fade\" data-lazy-src=\"https://view01.wemep.co.kr/wmp-deal/6/108/601571086/601571086_small.jpg?1642480629\" data-role=\"image\" height=\"140\" width=\"140\"/>,\n",
       " <img alt=\"비핏 앱코치 훌라후프 외 BEST 홈트용품 50종 모음전 #집콕다이어트\" class=\"motion-fade\" data-lazy-src=\"https://view01.wemep.co.kr/wmp-deal/7/940/604189407/604189407_small.jpg?1638935516\" data-role=\"image\" height=\"140\" width=\"140\"/>]"
      ]
     },
     "execution_count": 35,
     "metadata": {},
     "output_type": "execute_result"
    }
   ],
   "source": [
    "images"
   ]
  },
  {
   "cell_type": "code",
   "execution_count": 54,
   "id": "17e65390",
   "metadata": {},
   "outputs": [
    {
     "data": {
      "text/plain": [
       "['https://view01.wemep.co.kr/wmp-deal/4/869/603148694/603148694_small.jpg?1638935175',\n",
       " 'https://view01.wemep.co.kr/wmp-deal/1/226/600122261/600122261_small.jpg?1638934550',\n",
       " 'https://view01.wemep.co.kr/wmp-deal/4/642/600106424/600106424_small.jpg?1644385622',\n",
       " 'https://view01.wemep.co.kr/wmp-deal/8/740/618467408/618467408_small.jpg?1638940098',\n",
       " 'https://view01.wemep.co.kr/wmp-deal/1/222/603262221/603262221_small.jpg?1638935207',\n",
       " 'https://view01.wemep.co.kr/wmp-deal/8/011/605350118/605350118_small.jpg?1638935887',\n",
       " 'https://view01.wemep.co.kr/wmp-deal/9/259/600122599/600122599_small.jpg?1638934550',\n",
       " 'https://view01.wemep.co.kr/wmp-deal/1/841/600118411/600118411_small.jpg?1638934550',\n",
       " 'https://view01.wemep.co.kr/wmp-deal/7/172/602661727/602661727_small.jpg?1638935048',\n",
       " 'https://view01.wemep.co.kr/wmp-deal/5/167/603781675/603781675_small.jpg?1638935399',\n",
       " 'https://view01.wemep.co.kr/wmp-deal/9/463/603184639/603184639_small.jpg?1588551619',\n",
       " 'https://view01.wemep.co.kr/wmp-deal/6/713/603177136/603177136_small.jpg?1596766161',\n",
       " 'https://view01.wemep.co.kr/wmp-deal/5/356/602953565/602953565_small.jpg?1638935101',\n",
       " 'https://view01.wemep.co.kr/wmp-deal/0/976/603159760/603159760_small.jpg?1638935175',\n",
       " 'https://view01.wemep.co.kr/wmp-deal/9/790/627027909/627027909_small.jpg?1646377578',\n",
       " 'https://view01.wemep.co.kr/wmp-deal/4/120/600101204/600101204_small.jpg?1638934539',\n",
       " 'https://view01.wemep.co.kr/wmp-deal/7/510/611315107/611315107_small.jpg?1638937712',\n",
       " 'https://view01.wemep.co.kr/wmp-deal/7/014/603100147/603100147_small.jpg?1638935154',\n",
       " 'https://view01.wemep.co.kr/wmp-deal/5/265/617352655/617352655_small.jpg?1645781415',\n",
       " 'https://view01.wemep.co.kr/wmp-deal/3/860/602588603/602588603_small.jpg?1638935016',\n",
       " 'https://view01.wemep.co.kr/wmp-deal/4/037/603310374/603310374_small.jpg?1638935229',\n",
       " 'https://view01.wemep.co.kr/wmp-deal/7/842/600908427/600908427_small.jpg?1638934709',\n",
       " 'https://view01.wemep.co.kr/wmp-product/7/063/349750637/349750637_small.jpg?1643012070',\n",
       " 'https://view01.wemep.co.kr/wmp-deal/8/511/611315118/611315118_small.jpg?1638937712',\n",
       " 'https://view01.wemep.co.kr/wmp-product/2/886/262798862/262798862_small.jpg?1643012072',\n",
       " 'https://view01.wemep.co.kr/wmp-deal/7/426/605084267/605084267_small.jpg?1638935792',\n",
       " 'https://view01.wemep.co.kr/wmp-product/5/054/1264420545/1264420545_small.jpg?1643012067',\n",
       " 'https://view01.wemep.co.kr/wmp-deal/4/081/606280814/606280814_small.jpg?1638936173',\n",
       " 'https://view01.wemep.co.kr/wmp-deal/6/108/601571086/601571086_small.jpg?1642480629',\n",
       " 'https://view01.wemep.co.kr/wmp-deal/7/940/604189407/604189407_small.jpg?1638935516']"
      ]
     },
     "execution_count": 54,
     "metadata": {},
     "output_type": "execute_result"
    }
   ],
   "source": [
    "img_list=[]\n",
    "cnt=0\n",
    "for i in images:\n",
    "    a=images[cnt].get('src')\n",
    "    if a is not None :\n",
    "        img_list.append(i.get('src'))\n",
    "    else :\n",
    "        img_list.append(i.get('data-lazy-src'))\n",
    "    cnt+=1\n",
    "img_list"
   ]
  },
  {
   "cell_type": "code",
   "execution_count": 55,
   "id": "590dde36",
   "metadata": {},
   "outputs": [
    {
     "data": {
      "text/plain": [
       "['https://view01.wemep.co.kr/wmp-deal/4/869/603148694/603148694_small.jpg?1638935175',\n",
       " 'https://view01.wemep.co.kr/wmp-deal/1/226/600122261/600122261_small.jpg?1638934550',\n",
       " 'https://view01.wemep.co.kr/wmp-deal/4/642/600106424/600106424_small.jpg?1644385622',\n",
       " 'https://view01.wemep.co.kr/wmp-deal/8/740/618467408/618467408_small.jpg?1638940098',\n",
       " 'https://view01.wemep.co.kr/wmp-deal/1/222/603262221/603262221_small.jpg?1638935207',\n",
       " 'https://view01.wemep.co.kr/wmp-deal/8/011/605350118/605350118_small.jpg?1638935887',\n",
       " 'https://view01.wemep.co.kr/wmp-deal/9/259/600122599/600122599_small.jpg?1638934550',\n",
       " 'https://view01.wemep.co.kr/wmp-deal/1/841/600118411/600118411_small.jpg?1638934550',\n",
       " 'https://view01.wemep.co.kr/wmp-deal/7/172/602661727/602661727_small.jpg?1638935048',\n",
       " 'https://view01.wemep.co.kr/wmp-deal/5/167/603781675/603781675_small.jpg?1638935399',\n",
       " 'https://view01.wemep.co.kr/wmp-deal/9/463/603184639/603184639_small.jpg?1588551619',\n",
       " 'https://view01.wemep.co.kr/wmp-deal/6/713/603177136/603177136_small.jpg?1596766161',\n",
       " 'https://view01.wemep.co.kr/wmp-deal/5/356/602953565/602953565_small.jpg?1638935101',\n",
       " 'https://view01.wemep.co.kr/wmp-deal/0/976/603159760/603159760_small.jpg?1638935175',\n",
       " 'https://view01.wemep.co.kr/wmp-deal/9/790/627027909/627027909_small.jpg?1646377578',\n",
       " 'https://view01.wemep.co.kr/wmp-deal/4/120/600101204/600101204_small.jpg?1638934539',\n",
       " 'https://view01.wemep.co.kr/wmp-deal/7/510/611315107/611315107_small.jpg?1638937712',\n",
       " 'https://view01.wemep.co.kr/wmp-deal/7/014/603100147/603100147_small.jpg?1638935154',\n",
       " 'https://view01.wemep.co.kr/wmp-deal/5/265/617352655/617352655_small.jpg?1645781415',\n",
       " 'https://view01.wemep.co.kr/wmp-deal/3/860/602588603/602588603_small.jpg?1638935016',\n",
       " 'https://view01.wemep.co.kr/wmp-deal/4/037/603310374/603310374_small.jpg?1638935229',\n",
       " 'https://view01.wemep.co.kr/wmp-deal/7/842/600908427/600908427_small.jpg?1638934709',\n",
       " 'https://view01.wemep.co.kr/wmp-product/7/063/349750637/349750637_small.jpg?1643012070',\n",
       " 'https://view01.wemep.co.kr/wmp-deal/8/511/611315118/611315118_small.jpg?1638937712',\n",
       " 'https://view01.wemep.co.kr/wmp-product/2/886/262798862/262798862_small.jpg?1643012072',\n",
       " 'https://view01.wemep.co.kr/wmp-deal/7/426/605084267/605084267_small.jpg?1638935792',\n",
       " 'https://view01.wemep.co.kr/wmp-product/5/054/1264420545/1264420545_small.jpg?1643012067',\n",
       " 'https://view01.wemep.co.kr/wmp-deal/4/081/606280814/606280814_small.jpg?1638936173',\n",
       " 'https://view01.wemep.co.kr/wmp-deal/6/108/601571086/601571086_small.jpg?1642480629',\n",
       " 'https://view01.wemep.co.kr/wmp-deal/7/940/604189407/604189407_small.jpg?1638935516']"
      ]
     },
     "execution_count": 55,
     "metadata": {},
     "output_type": "execute_result"
    }
   ],
   "source": [
    "img_list"
   ]
  },
  {
   "cell_type": "code",
   "execution_count": 56,
   "id": "0fb99f8a",
   "metadata": {},
   "outputs": [],
   "source": [
    "cnt=0\n",
    "for src in img_list:\n",
    "    cnt+=1\n",
    "    urlretrieve(src,\"./ex_img/{}.png\".format(cnt))"
   ]
  }
 ],
 "metadata": {
  "kernelspec": {
   "display_name": "Python 3 (ipykernel)",
   "language": "python",
   "name": "python3"
  },
  "language_info": {
   "codemirror_mode": {
    "name": "ipython",
    "version": 3
   },
   "file_extension": ".py",
   "mimetype": "text/x-python",
   "name": "python",
   "nbconvert_exporter": "python",
   "pygments_lexer": "ipython3",
   "version": "3.9.7"
  }
 },
 "nbformat": 4,
 "nbformat_minor": 5
}
